{
 "cells": [
  {
   "cell_type": "code",
   "execution_count": 2,
   "id": "968e9bfe",
   "metadata": {},
   "outputs": [],
   "source": [
    "!pip install google-cloud-vision Flask\n",
    "\n",
    "from flask import Flask, request, jsonify\n",
    "from google.cloud import vision\n",
    "import io\n",
    "from google.oauth2 import service_account"
   ]
  },
  {
   "cell_type": "code",
   "execution_count": null,
   "id": "f3e9bb7c",
   "metadata": {},
   "outputs": [],
   "source": [
    "\n",
    "\n",
    "# Initialize Flask app\n",
    "app = Flask(__name__)\n",
    "\n",
    "# Load Google Cloud credentials\n",
    "key_path = '/Users/jochemmeesters/Documents/Ironhack_DA/Python_Project/FinalProject_DA/lexical-rock-416310-9c244b07f8d5.json'\n",
    "credentials = service_account.Credentials.from_service_account_file(key_path)\n",
    "\n",
    "# Initialize the Google Cloud Vision client\n",
    "client = vision.ImageAnnotatorClient(credentials=credentials)\n",
    "\n",
    "@app.route('/upload', methods=['POST'])\n",
    "def upload_image():\n",
    "    # Check if a file is present in the request\n",
    "    if 'image' not in request.files:\n",
    "        return jsonify({'error': 'No file part'})\n",
    "\n",
    "    file = request.files['image']\n",
    "\n",
    "    # Check if the file is empty\n",
    "    if file.filename == '':\n",
    "        return jsonify({'error': 'No selected file'})\n",
    "\n",
    "    # Read the image file\n",
    "    image_bytes = file.read()\n",
    "\n",
    "    # Perform image analysis using Google Cloud Vision API\n",
    "    image = vision.Image(content=image_bytes)\n",
    "    response = client.text_detection(image=image)\n",
    "    texts = response.text_annotations\n",
    "\n",
    "    # Extract text from the response\n",
    "    extracted_text = [text.description for text in texts]\n",
    "\n",
    "    # Return the extracted text as a JSON response\n",
    "    return jsonify({'extracted_text': extracted_text})\n",
    "\n",
    "if __name__ == '__main__':\n",
    "    # Run the Flask app on host 0.0.0.0 to accept requests from any IP address\n",
    "    app.run(debug=True, host='0.0.0.0')\n"
   ]
  },
  {
   "cell_type": "code",
   "execution_count": null,
   "id": "8d546790",
   "metadata": {},
   "outputs": [],
   "source": []
  },
  {
   "cell_type": "code",
   "execution_count": null,
   "id": "c1534e0f",
   "metadata": {},
   "outputs": [],
   "source": []
  }
 ],
 "metadata": {
  "kernelspec": {
   "display_name": "Python 3 (ipykernel)",
   "language": "python",
   "name": "python3"
  },
  "language_info": {
   "codemirror_mode": {
    "name": "ipython",
    "version": 3
   },
   "file_extension": ".py",
   "mimetype": "text/x-python",
   "name": "python",
   "nbconvert_exporter": "python",
   "pygments_lexer": "ipython3",
   "version": "3.9.13"
  }
 },
 "nbformat": 4,
 "nbformat_minor": 5
}
