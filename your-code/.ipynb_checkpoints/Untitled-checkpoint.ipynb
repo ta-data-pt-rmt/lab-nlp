{
 "cells": [
  {
   "cell_type": "code",
   "execution_count": 1,
   "id": "c140371e",
   "metadata": {},
   "outputs": [],
   "source": [
    "import re\n",
    "import string \n",
    "import nltk\n",
    "from nltk.stem import PorterStemmer, WordNetLemmatizer\n",
    "from nltk.corpus import \n",
    "from nltk.corpus import stopwords\n",
    "nltk.download('stopwords')"
   ]
  },
  {
   "cell_type": "code",
   "execution_count": 9,
   "id": "767fc460",
   "metadata": {},
   "outputs": [
    {
     "name": "stdout",
     "output_type": "stream",
     "text": [
      "Text after cleaning: check out our instragram for more information about bali enjoy you trip planning  amazing balie travel world destination\n"
     ]
    }
   ],
   "source": [
    "# Create functions to remove URL, special characters and convert to lowercase.\n",
    "# def clean_up(s):\n",
    "#     \"\"\"\n",
    "#     Cleans up numbers, URLs, and special characters from a string.\n",
    "\n",
    "#     Args:\n",
    "#         s: The string to be cleaned up.\n",
    "\n",
    "#     Returns:\n",
    "#         A string that has been cleaned up.\n",
    "#     \"\"\"\n",
    "    \n",
    "    \n",
    "def clean_up(s):\n",
    "    s = re.sub(r'http\\S+', '', s)\n",
    "    s = s.translate(str.maketrans('', '', string.punctuation))\n",
    "    s = s.lower()\n",
    "    return s\n",
    "\n",
    "\n",
    "text = \"Check out our Instragram for more information about Bali!, Enjoy you trip planning :) #amazing Balie #travel #world destination\"\n",
    "cleaned_text = clean_up(text)\n",
    "print(\"Text after cleaning:\", cleaned_text)\n"
   ]
  },
  {
   "cell_type": "code",
   "execution_count": 13,
   "id": "cae33ae9",
   "metadata": {},
   "outputs": [
    {
     "name": "stdout",
     "output_type": "stream",
     "text": [
      "['Today', 'is', 'a', 'good', 'day']\n"
     ]
    }
   ],
   "source": [
    "# def tokenize(s):\n",
    "#     \"\"\"\n",
    "#     Tokenize a string.\n",
    "\n",
    "#     Args:\n",
    "#         s: String to be tokenized.\n",
    "\n",
    "#     Returns:\n",
    "#         A list of words as the result of tokenization.\n",
    "#     \"\"\"\n",
    "\n",
    "\n",
    "\n",
    "def tokenize(s):\n",
    "    tokens = s.split() \n",
    "    return tokens\n",
    "\n",
    "s = \"Today is a good day\"\n",
    "tokens = tokenize(s)  \n",
    "\n",
    "print(tokens)\n"
   ]
  },
  {
   "cell_type": "code",
   "execution_count": 26,
   "id": "f9098654",
   "metadata": {},
   "outputs": [
    {
     "name": "stdout",
     "output_type": "stream",
     "text": [
      "['expect', 'commun', 'be']\n"
     ]
    }
   ],
   "source": [
    "# def stem_and_lemmatize(l):\n",
    "#     \"\"\"\n",
    "#     Perform stemming and lemmatization on a list of words.\n",
    "\n",
    "#     Args:\n",
    "#         l: A list of strings.\n",
    "\n",
    "#     Returns:\n",
    "#         A list of strings after being stemmed and lemmatized.\n",
    "#     \"\"\"\n",
    "\n",
    "\n",
    "\n",
    "from nltk.stem import PorterStemmer, WordNetLemmatizer\n",
    "from nltk.corpus import wordnet\n",
    "\n",
    "def stem_and_lemmatize(l):\n",
    "    stemmer = PorterStemmer()  \n",
    "    lemmatizer = WordNetLemmatizer() \n",
    "    stemmed_and_lemmatized_words = []\n",
    "    \n",
    "    \n",
    "    for word in l:\n",
    "        lemmatized_noun = lemmatizer.lemmatize(word, pos='n')  # Lemmatize as a noun\n",
    "        lemmatized_verb = lemmatizer.lemmatize(word, pos='v')  # Lemmatize as a verb\n",
    "        lemmatized_adj = lemmatizer.lemmatize(word, pos='a')   # Lemmatize as an adjective\n",
    "        lemmatized_adv = lemmatizer.lemmatize(word, pos='r')   # Lemmatize as an adverb\n",
    "        \n",
    "        # Choose the lemmatized word based on the shortest length\n",
    "        lemmatized_word = min((lemmatized_noun, lemmatized_verb, lemmatized_adj, lemmatized_adv), key=len)\n",
    "        \n",
    "        \n",
    "        stemmed_word = stemmer.stem(lemmatized_word)\n",
    "        stemmed_and_lemmatized_words.append(stemmed_word)\n",
    "    \n",
    "    return stemmed_and_lemmatized_words\n",
    "\n",
    "\n",
    "words = ['expecting', 'communities', 'were']\n",
    "stemmed_and_lemmatized = stem_and_lemmatize(words)\n",
    "print(stemmed_and_lemmatized)   \n",
    "    \n",
    "     "
   ]
  },
  {
   "cell_type": "code",
   "execution_count": 32,
   "id": "ff2a61d5",
   "metadata": {},
   "outputs": [
    {
     "name": "stdout",
     "output_type": "stream",
     "text": [
      "['biggest', 'house', 'street', 'looks', 'like', 'castle']\n"
     ]
    },
    {
     "name": "stderr",
     "output_type": "stream",
     "text": [
      "[nltk_data] Downloading package stopwords to\n",
      "[nltk_data]     /Users/jochemmeesters/nltk_data...\n",
      "[nltk_data]   Package stopwords is already up-to-date!\n"
     ]
    }
   ],
   "source": [
    "\n",
    "# def remove_stopwords(l):\n",
    "#     \"\"\"\n",
    "#     Remove English stopwords from a list of strings.\n",
    "\n",
    "#     Args:\n",
    "#         l: A list of strings.\n",
    "\n",
    "#     Returns:\n",
    "#         A list of strings after stop words are removed.\n",
    "#     \"\"\"\n",
    "\n",
    "\n",
    "# import nltk\n",
    "# from nltk.corpus import stopwords\n",
    "# nltk.download('stopwords')\n",
    "\n",
    "def remove_stopwords(l):\n",
    "    english_stopwords = set(stopwords.words('english'))\n",
    "    words = text.split()\n",
    "    filtered_words = [word for word in words if word.lower() not in english_stopwords]\n",
    "    return filtered_words\n",
    "\n",
    "list = \"The biggest house in my street looks just like a castle\"\n",
    "filtered_words = remove_stopwords(list)\n",
    "print(filtered_words)\n"
   ]
  }
 ],
 "metadata": {
  "kernelspec": {
   "display_name": "Python 3 (ipykernel)",
   "language": "python",
   "name": "python3"
  },
  "language_info": {
   "codemirror_mode": {
    "name": "ipython",
    "version": 3
   },
   "file_extension": ".py",
   "mimetype": "text/x-python",
   "name": "python",
   "nbconvert_exporter": "python",
   "pygments_lexer": "ipython3",
   "version": "3.9.13"
  }
 },
 "nbformat": 4,
 "nbformat_minor": 5
}
