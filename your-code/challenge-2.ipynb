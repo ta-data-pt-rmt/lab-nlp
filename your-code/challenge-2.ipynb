{
 "cells": [
  {
   "cell_type": "markdown",
   "metadata": {},
   "source": [
    "# Challenge 2: Sentiment Analysis\n",
    "\n",
    "In this challenge we will learn sentiment analysis and practice performing sentiment analysis on Twitter tweets. \n",
    "\n",
    "## Introduction\n",
    "\n",
    "Sentiment analysis is to *systematically identify, extract, quantify, and study affective states and subjective information* based on texts ([reference](https://en.wikipedia.org/wiki/Sentiment_analysis)). In simple words, it's to understand whether a person is happy or unhappy in producing the piece of text. Why we (or rather, companies) care about sentiment in texts? It's because by understanding the sentiments in texts, we will be able to know if our customers are happy or unhappy about our products and services. If they are unhappy, the subsequent action is to figure out what have caused the unhappiness and make improvements.\n",
    "\n",
    "Basic sentiment analysis only understands the *positive* or *negative* (sometimes *neutral* too) polarities of the sentiment. More advanced sentiment analysis will also consider dimensions such as agreement, subjectivity, confidence, irony, and so on. In this challenge we will conduct the basic positive vs negative sentiment analysis based on real Twitter tweets.\n",
    "\n",
    "NLTK comes with a [sentiment analysis package](https://www.nltk.org/api/nltk.sentiment.html). This package is great for dummies to perform sentiment analysis because it requires only the textual data to make predictions. For example:\n",
    "\n",
    "```python\n",
    ">>> from nltk.sentiment.vader import SentimentIntensityAnalyzer\n",
    ">>> txt = \"Ironhack is a Global Tech School ranked num 2 worldwide.  \n",
    " \n",
    "Our mission is to help people transform their careers and join a thriving community of tech professionals that love what they do.\"\n",
    ">>> analyzer = SentimentIntensityAnalyzer()\n",
    ">>> analyzer.polarity_scores(txt)\n",
    "{'neg': 0.0, 'neu': 0.741, 'pos': 0.259, 'compound': 0.8442}\n",
    "```\n",
    "\n",
    "In this challenge, however, you will not use NLTK's sentiment analysis package because in your Machine Learning training in the past 2 weeks you have learned how to make predictions more accurate than that. The [tweets data](https://www.kaggle.com/kazanova/sentiment140) we will be using today are already coded for the positive/negative sentiment. You will be able to use the Naïve Bayes classifier you learned in the lesson to predict the sentiment of tweets based on the labels."
   ]
  },
  {
   "cell_type": "markdown",
   "metadata": {},
   "source": [
    "## Conducting Sentiment Analysis\n",
    "\n",
    "### Loading and Exploring Data\n",
    "\n",
    "The dataset we'll be using today is located on Kaggle (https://www.kaggle.com/kazanova/sentiment140). Once you have downloaded and imported the dataset, it you will need to define the columns names: df.columns = ['target','id','date','flag','user','text']\n",
    "\n",
    "*Notes:* \n",
    "\n",
    "* The dataset is huuuuge (1.6m tweets). When you develop your data analysis codes, you can sample a subset of the data (e.g. 20k records) so that you will save a lot of time when you test your codes."
   ]
  },
  {
   "cell_type": "code",
   "execution_count": 1,
   "metadata": {},
   "outputs": [],
   "source": [
    "import pandas as pd\n",
    "\n",
    "csv_file_path = 'C:\\\\Users\\\\David Santos\\\\Desktop\\\\training.1600000.processed.noemoticon.csv'\n",
    "df = pd.read_csv(csv_file_path, encoding='latin-1')\n"
   ]
  },
  {
   "cell_type": "code",
   "execution_count": 2,
   "metadata": {},
   "outputs": [
    {
     "data": {
      "text/plain": [
       "5000"
      ]
     },
     "execution_count": 2,
     "metadata": {},
     "output_type": "execute_result"
    }
   ],
   "source": [
    "sampled_df = df.sample(n=5000, random_state=42)\n",
    "\n",
    "sampled_df.shape[0]"
   ]
  },
  {
   "cell_type": "code",
   "execution_count": 3,
   "metadata": {},
   "outputs": [
    {
     "data": {
      "text/html": [
       "<div>\n",
       "<style scoped>\n",
       "    .dataframe tbody tr th:only-of-type {\n",
       "        vertical-align: middle;\n",
       "    }\n",
       "\n",
       "    .dataframe tbody tr th {\n",
       "        vertical-align: top;\n",
       "    }\n",
       "\n",
       "    .dataframe thead th {\n",
       "        text-align: right;\n",
       "    }\n",
       "</style>\n",
       "<table border=\"1\" class=\"dataframe\">\n",
       "  <thead>\n",
       "    <tr style=\"text-align: right;\">\n",
       "      <th></th>\n",
       "      <th>0</th>\n",
       "      <th>1467810369</th>\n",
       "      <th>Mon Apr 06 22:19:45 PDT 2009</th>\n",
       "      <th>NO_QUERY</th>\n",
       "      <th>_TheSpecialOne_</th>\n",
       "      <th>@switchfoot http://twitpic.com/2y1zl - Awww, that's a bummer.  You shoulda got David Carr of Third Day to do it. ;D</th>\n",
       "    </tr>\n",
       "  </thead>\n",
       "  <tbody>\n",
       "    <tr>\n",
       "      <th>541200</th>\n",
       "      <td>0</td>\n",
       "      <td>2200003313</td>\n",
       "      <td>Tue Jun 16 18:18:13 PDT 2009</td>\n",
       "      <td>NO_QUERY</td>\n",
       "      <td>DEWGetMeTho77</td>\n",
       "      <td>@Nkluvr4eva My poor little dumpling  In Holmde...</td>\n",
       "    </tr>\n",
       "    <tr>\n",
       "      <th>750</th>\n",
       "      <td>0</td>\n",
       "      <td>1467998601</td>\n",
       "      <td>Mon Apr 06 23:11:18 PDT 2009</td>\n",
       "      <td>NO_QUERY</td>\n",
       "      <td>Young_J</td>\n",
       "      <td>I'm off too bed. I gotta wake up hella early t...</td>\n",
       "    </tr>\n",
       "    <tr>\n",
       "      <th>766711</th>\n",
       "      <td>0</td>\n",
       "      <td>2300049112</td>\n",
       "      <td>Tue Jun 23 13:40:12 PDT 2009</td>\n",
       "      <td>NO_QUERY</td>\n",
       "      <td>dougnawoschik</td>\n",
       "      <td>I havent been able to listen to it yet  My spe...</td>\n",
       "    </tr>\n",
       "    <tr>\n",
       "      <th>285055</th>\n",
       "      <td>0</td>\n",
       "      <td>1993474319</td>\n",
       "      <td>Mon Jun 01 10:26:09 PDT 2009</td>\n",
       "      <td>NO_QUERY</td>\n",
       "      <td>thireven</td>\n",
       "      <td>now remembers why solving a relatively big equ...</td>\n",
       "    </tr>\n",
       "    <tr>\n",
       "      <th>705995</th>\n",
       "      <td>0</td>\n",
       "      <td>2256551006</td>\n",
       "      <td>Sat Jun 20 12:56:51 PDT 2009</td>\n",
       "      <td>NO_QUERY</td>\n",
       "      <td>taracollins086</td>\n",
       "      <td>Ate too much, feel sick</td>\n",
       "    </tr>\n",
       "  </tbody>\n",
       "</table>\n",
       "</div>"
      ],
      "text/plain": [
       "        0  1467810369  Mon Apr 06 22:19:45 PDT 2009  NO_QUERY _TheSpecialOne_  \\\n",
       "541200  0  2200003313  Tue Jun 16 18:18:13 PDT 2009  NO_QUERY   DEWGetMeTho77   \n",
       "750     0  1467998601  Mon Apr 06 23:11:18 PDT 2009  NO_QUERY         Young_J   \n",
       "766711  0  2300049112  Tue Jun 23 13:40:12 PDT 2009  NO_QUERY   dougnawoschik   \n",
       "285055  0  1993474319  Mon Jun 01 10:26:09 PDT 2009  NO_QUERY        thireven   \n",
       "705995  0  2256551006  Sat Jun 20 12:56:51 PDT 2009  NO_QUERY  taracollins086   \n",
       "\n",
       "       @switchfoot http://twitpic.com/2y1zl - Awww, that's a bummer.  You shoulda got David Carr of Third Day to do it. ;D  \n",
       "541200  @Nkluvr4eva My poor little dumpling  In Holmde...                                                                   \n",
       "750     I'm off too bed. I gotta wake up hella early t...                                                                   \n",
       "766711  I havent been able to listen to it yet  My spe...                                                                   \n",
       "285055  now remembers why solving a relatively big equ...                                                                   \n",
       "705995                           Ate too much, feel sick                                                                    "
      ]
     },
     "execution_count": 3,
     "metadata": {},
     "output_type": "execute_result"
    }
   ],
   "source": [
    "sampled_df.head()"
   ]
  },
  {
   "cell_type": "markdown",
   "metadata": {},
   "source": [
    "### Prepare Textual Data for Sentiment Analysis\n",
    "\n",
    "Now, apply the functions you have written in Challenge 1 to your whole data set. These functions include:\n",
    "\n",
    "* `clean_up()`\n",
    "\n",
    "* `tokenize()`\n",
    "\n",
    "* `stem_and_lemmatize()`\n",
    "\n",
    "* `remove_stopwords()`\n",
    "\n",
    "Create a new column called `text_processed` in the dataframe to contain the processed data. At the end, your `text_processed` column should contain lists of word tokens that are cleaned up. Your data should look like below:\n",
    "\n",
    "![Processed Data](data-cleaning-results.png)"
   ]
  },
  {
   "cell_type": "code",
   "execution_count": 4,
   "metadata": {},
   "outputs": [],
   "source": [
    "import pandas as pd\n",
    "sampled_df.rename(columns={'0': 'target',\n",
    "                           '1467810369': 'id',\n",
    "                           'Mon Apr 06 22:19:45 PDT 2009': 'date',\n",
    "                           'NO_QUERY': 'flag',\n",
    "                           '_TheSpecialOne_': 'user',\n",
    "                           '@switchfoot http://twitpic.com/2y1zl - Awww, that\\'s a bummer. You shoulda got David Carr of Third Day to do it. ;D.': 'text'}, inplace=True)\n"
   ]
  },
  {
   "cell_type": "code",
   "execution_count": 5,
   "metadata": {},
   "outputs": [],
   "source": [
    "problematic_column_name = sampled_df.columns[5] # actual index of the column you want to rename\n",
    "\n",
    "\n",
    "sampled_df.rename(columns={problematic_column_name: 'text'}, inplace=True)"
   ]
  },
  {
   "cell_type": "code",
   "execution_count": 6,
   "metadata": {},
   "outputs": [
    {
     "data": {
      "text/html": [
       "<div>\n",
       "<style scoped>\n",
       "    .dataframe tbody tr th:only-of-type {\n",
       "        vertical-align: middle;\n",
       "    }\n",
       "\n",
       "    .dataframe tbody tr th {\n",
       "        vertical-align: top;\n",
       "    }\n",
       "\n",
       "    .dataframe thead th {\n",
       "        text-align: right;\n",
       "    }\n",
       "</style>\n",
       "<table border=\"1\" class=\"dataframe\">\n",
       "  <thead>\n",
       "    <tr style=\"text-align: right;\">\n",
       "      <th></th>\n",
       "      <th>target</th>\n",
       "      <th>id</th>\n",
       "      <th>date</th>\n",
       "      <th>flag</th>\n",
       "      <th>user</th>\n",
       "      <th>text</th>\n",
       "    </tr>\n",
       "  </thead>\n",
       "  <tbody>\n",
       "    <tr>\n",
       "      <th>541200</th>\n",
       "      <td>0</td>\n",
       "      <td>2200003313</td>\n",
       "      <td>Tue Jun 16 18:18:13 PDT 2009</td>\n",
       "      <td>NO_QUERY</td>\n",
       "      <td>DEWGetMeTho77</td>\n",
       "      <td>@Nkluvr4eva My poor little dumpling  In Holmde...</td>\n",
       "    </tr>\n",
       "    <tr>\n",
       "      <th>750</th>\n",
       "      <td>0</td>\n",
       "      <td>1467998601</td>\n",
       "      <td>Mon Apr 06 23:11:18 PDT 2009</td>\n",
       "      <td>NO_QUERY</td>\n",
       "      <td>Young_J</td>\n",
       "      <td>I'm off too bed. I gotta wake up hella early t...</td>\n",
       "    </tr>\n",
       "    <tr>\n",
       "      <th>766711</th>\n",
       "      <td>0</td>\n",
       "      <td>2300049112</td>\n",
       "      <td>Tue Jun 23 13:40:12 PDT 2009</td>\n",
       "      <td>NO_QUERY</td>\n",
       "      <td>dougnawoschik</td>\n",
       "      <td>I havent been able to listen to it yet  My spe...</td>\n",
       "    </tr>\n",
       "    <tr>\n",
       "      <th>285055</th>\n",
       "      <td>0</td>\n",
       "      <td>1993474319</td>\n",
       "      <td>Mon Jun 01 10:26:09 PDT 2009</td>\n",
       "      <td>NO_QUERY</td>\n",
       "      <td>thireven</td>\n",
       "      <td>now remembers why solving a relatively big equ...</td>\n",
       "    </tr>\n",
       "    <tr>\n",
       "      <th>705995</th>\n",
       "      <td>0</td>\n",
       "      <td>2256551006</td>\n",
       "      <td>Sat Jun 20 12:56:51 PDT 2009</td>\n",
       "      <td>NO_QUERY</td>\n",
       "      <td>taracollins086</td>\n",
       "      <td>Ate too much, feel sick</td>\n",
       "    </tr>\n",
       "  </tbody>\n",
       "</table>\n",
       "</div>"
      ],
      "text/plain": [
       "        target          id                          date      flag  \\\n",
       "541200       0  2200003313  Tue Jun 16 18:18:13 PDT 2009  NO_QUERY   \n",
       "750          0  1467998601  Mon Apr 06 23:11:18 PDT 2009  NO_QUERY   \n",
       "766711       0  2300049112  Tue Jun 23 13:40:12 PDT 2009  NO_QUERY   \n",
       "285055       0  1993474319  Mon Jun 01 10:26:09 PDT 2009  NO_QUERY   \n",
       "705995       0  2256551006  Sat Jun 20 12:56:51 PDT 2009  NO_QUERY   \n",
       "\n",
       "                  user                                               text  \n",
       "541200   DEWGetMeTho77  @Nkluvr4eva My poor little dumpling  In Holmde...  \n",
       "750            Young_J  I'm off too bed. I gotta wake up hella early t...  \n",
       "766711   dougnawoschik  I havent been able to listen to it yet  My spe...  \n",
       "285055        thireven  now remembers why solving a relatively big equ...  \n",
       "705995  taracollins086                           Ate too much, feel sick   "
      ]
     },
     "execution_count": 6,
     "metadata": {},
     "output_type": "execute_result"
    }
   ],
   "source": [
    "sampled_df.head()"
   ]
  },
  {
   "cell_type": "code",
   "execution_count": 7,
   "metadata": {},
   "outputs": [
    {
     "name": "stderr",
     "output_type": "stream",
     "text": [
      "[nltk_data] Downloading package punkt to C:\\Users\\David\n",
      "[nltk_data]     Santos\\AppData\\Roaming\\nltk_data...\n",
      "[nltk_data]   Package punkt is already up-to-date!\n",
      "[nltk_data] Downloading package stopwords to C:\\Users\\David\n",
      "[nltk_data]     Santos\\AppData\\Roaming\\nltk_data...\n",
      "[nltk_data]   Package stopwords is already up-to-date!\n",
      "[nltk_data] Downloading package wordnet to C:\\Users\\David\n",
      "[nltk_data]     Santos\\AppData\\Roaming\\nltk_data...\n",
      "[nltk_data]   Package wordnet is already up-to-date!\n",
      "[nltk_data] Downloading package omw-1.4 to C:\\Users\\David\n",
      "[nltk_data]     Santos\\AppData\\Roaming\\nltk_data...\n",
      "[nltk_data]   Package omw-1.4 is already up-to-date!\n"
     ]
    },
    {
     "data": {
      "text/plain": [
       "True"
      ]
     },
     "execution_count": 7,
     "metadata": {},
     "output_type": "execute_result"
    }
   ],
   "source": [
    "import pandas as pd\n",
    "import nltk\n",
    "from nltk.corpus import stopwords\n",
    "from nltk.stem import PorterStemmer\n",
    "from nltk.stem import WordNetLemmatizer\n",
    "import re\n",
    "\n",
    "nltk.download('punkt')\n",
    "nltk.download('stopwords')\n",
    "nltk.download('wordnet')\n",
    "\n",
    "\n",
    "\n",
    "nltk.download('omw-1.4')"
   ]
  },
  {
   "cell_type": "code",
   "execution_count": 8,
   "metadata": {},
   "outputs": [
    {
     "data": {
      "text/html": [
       "<div>\n",
       "<style scoped>\n",
       "    .dataframe tbody tr th:only-of-type {\n",
       "        vertical-align: middle;\n",
       "    }\n",
       "\n",
       "    .dataframe tbody tr th {\n",
       "        vertical-align: top;\n",
       "    }\n",
       "\n",
       "    .dataframe thead th {\n",
       "        text-align: right;\n",
       "    }\n",
       "</style>\n",
       "<table border=\"1\" class=\"dataframe\">\n",
       "  <thead>\n",
       "    <tr style=\"text-align: right;\">\n",
       "      <th></th>\n",
       "      <th>target</th>\n",
       "      <th>id</th>\n",
       "      <th>date</th>\n",
       "      <th>flag</th>\n",
       "      <th>user</th>\n",
       "      <th>text</th>\n",
       "      <th>text_processed</th>\n",
       "    </tr>\n",
       "  </thead>\n",
       "  <tbody>\n",
       "    <tr>\n",
       "      <th>541200</th>\n",
       "      <td>0</td>\n",
       "      <td>2200003313</td>\n",
       "      <td>Tue Jun 16 18:18:13 PDT 2009</td>\n",
       "      <td>NO_QUERY</td>\n",
       "      <td>DEWGetMeTho77</td>\n",
       "      <td>@Nkluvr4eva My poor little dumpling  In Holmde...</td>\n",
       "      <td>[nkluvreva, poor, littl, dumpl, holmdel, vid, ...</td>\n",
       "    </tr>\n",
       "    <tr>\n",
       "      <th>750</th>\n",
       "      <td>0</td>\n",
       "      <td>1467998601</td>\n",
       "      <td>Mon Apr 06 23:11:18 PDT 2009</td>\n",
       "      <td>NO_QUERY</td>\n",
       "      <td>Young_J</td>\n",
       "      <td>I'm off too bed. I gotta wake up hella early t...</td>\n",
       "      <td>[im, bed, got, ta, wake, hella, earli, tomorro...</td>\n",
       "    </tr>\n",
       "    <tr>\n",
       "      <th>766711</th>\n",
       "      <td>0</td>\n",
       "      <td>2300049112</td>\n",
       "      <td>Tue Jun 23 13:40:12 PDT 2009</td>\n",
       "      <td>NO_QUERY</td>\n",
       "      <td>dougnawoschik</td>\n",
       "      <td>I havent been able to listen to it yet  My spe...</td>\n",
       "      <td>[havent, abl, listen, yet, speaker, bust]</td>\n",
       "    </tr>\n",
       "    <tr>\n",
       "      <th>285055</th>\n",
       "      <td>0</td>\n",
       "      <td>1993474319</td>\n",
       "      <td>Mon Jun 01 10:26:09 PDT 2009</td>\n",
       "      <td>NO_QUERY</td>\n",
       "      <td>thireven</td>\n",
       "      <td>now remembers why solving a relatively big equ...</td>\n",
       "      <td>[rememb, whi, solv, rel, big, equat, two, unkn...</td>\n",
       "    </tr>\n",
       "    <tr>\n",
       "      <th>705995</th>\n",
       "      <td>0</td>\n",
       "      <td>2256551006</td>\n",
       "      <td>Sat Jun 20 12:56:51 PDT 2009</td>\n",
       "      <td>NO_QUERY</td>\n",
       "      <td>taracollins086</td>\n",
       "      <td>Ate too much, feel sick</td>\n",
       "      <td>[ate, much, feel, sick]</td>\n",
       "    </tr>\n",
       "  </tbody>\n",
       "</table>\n",
       "</div>"
      ],
      "text/plain": [
       "        target          id                          date      flag  \\\n",
       "541200       0  2200003313  Tue Jun 16 18:18:13 PDT 2009  NO_QUERY   \n",
       "750          0  1467998601  Mon Apr 06 23:11:18 PDT 2009  NO_QUERY   \n",
       "766711       0  2300049112  Tue Jun 23 13:40:12 PDT 2009  NO_QUERY   \n",
       "285055       0  1993474319  Mon Jun 01 10:26:09 PDT 2009  NO_QUERY   \n",
       "705995       0  2256551006  Sat Jun 20 12:56:51 PDT 2009  NO_QUERY   \n",
       "\n",
       "                  user                                               text  \\\n",
       "541200   DEWGetMeTho77  @Nkluvr4eva My poor little dumpling  In Holmde...   \n",
       "750            Young_J  I'm off too bed. I gotta wake up hella early t...   \n",
       "766711   dougnawoschik  I havent been able to listen to it yet  My spe...   \n",
       "285055        thireven  now remembers why solving a relatively big equ...   \n",
       "705995  taracollins086                           Ate too much, feel sick    \n",
       "\n",
       "                                           text_processed  \n",
       "541200  [nkluvreva, poor, littl, dumpl, holmdel, vid, ...  \n",
       "750     [im, bed, got, ta, wake, hella, earli, tomorro...  \n",
       "766711          [havent, abl, listen, yet, speaker, bust]  \n",
       "285055  [rememb, whi, solv, rel, big, equat, two, unkn...  \n",
       "705995                            [ate, much, feel, sick]  "
      ]
     },
     "execution_count": 8,
     "metadata": {},
     "output_type": "execute_result"
    }
   ],
   "source": [
    "def clean_up(text):\n",
    "  \n",
    "    text = re.sub(r'[^a-zA-Z\\s]', '', text)\n",
    "    text = re.sub(r'\\s+', ' ', text).strip()\n",
    "    return text\n",
    "\n",
    "def tokenize(text):\n",
    "  \n",
    "    tokens = nltk.word_tokenize(text)\n",
    "    return tokens\n",
    "\n",
    "def stem_and_lemmatize(tokens):\n",
    "   \n",
    "    stemmer = PorterStemmer()\n",
    "    lemmatizer = WordNetLemmatizer()\n",
    "    processed_tokens = [lemmatizer.lemmatize(stemmer.stem(token)) for token in tokens]\n",
    "    return processed_tokens\n",
    "\n",
    "def remove_stopwords(tokens):\n",
    "\n",
    "    stop_words = set(stopwords.words('english'))\n",
    "    filtered_tokens = [token for token in tokens if token.lower() not in stop_words]\n",
    "    return filtered_tokens\n",
    "\n",
    "\n",
    "sampled_df['text_processed'] = sampled_df['text'].apply(clean_up)\n",
    "sampled_df['text_processed'] = sampled_df['text_processed'].apply(tokenize)\n",
    "sampled_df['text_processed'] = sampled_df['text_processed'].apply(stem_and_lemmatize)\n",
    "sampled_df['text_processed'] = sampled_df['text_processed'].apply(remove_stopwords)\n",
    "\n",
    "sampled_df.head()"
   ]
  },
  {
   "cell_type": "markdown",
   "metadata": {},
   "source": [
    "### Creating Bag of Words\n",
    "\n",
    "The purpose of this step is to create a [bag of words](https://en.wikipedia.org/wiki/Bag-of-words_model) from the processed data. The bag of words contains all the unique words in your whole text body (a.k.a. *corpus*) with the number of occurrence of each word. It will allow you to understand which words are the most important features across the whole corpus.\n",
    "\n",
    "Also, you can imagine you will have a massive set of words. The less important words (i.e. those of very low number of occurrence) do not contribute much to the sentiment. Therefore, you only need to use the most important words to build your feature set in the next step. In our case, we will use the top 5,000 words with the highest frequency to build the features.\n",
    "\n",
    "In the cell below, combine all the words in `text_processed` and calculate the frequency distribution of all words. A convenient library to calculate the term frequency distribution is NLTK's `FreqDist` class ([documentation](https://www.nltk.org/api/nltk.html#module-nltk.probability)). Then select the top 5,000 words from the frequency distribution."
   ]
  },
  {
   "cell_type": "code",
   "execution_count": 9,
   "metadata": {},
   "outputs": [
    {
     "name": "stdout",
     "output_type": "stream",
     "text": [
      "['im', 'go', 'get', 'wa', 'day', 'work', 'thi', 'good', 'like', 'love', 'got', 'cant', 'dont', 'know', 'today', 'time', 'want', 'miss', 'thank', 'one', 'u', 'feel', 'lol', 'back', 'make', 'see', 'well', 'realli', 'think', 'new', 'still', 'ha', 'look', 'need', 'oh', 'na', 'night', 'watch', 'tomorrow', 'much', 'follow', 'wish', 'last', 'wait', 'morn', 'amp', 'hope', 'home', 'come', 'great', 'ill', 'tri', 'fun', 'whi', 'didnt', 'bad', 'though', 'sleep', 'haha', 'friend', 'twitter', 'nice', 'sorri', 'happi', 'veri', 'sad', 'right', 'start', 'hate', 'gon', 'say', 'would', 'take', 'week', 'thing', 'show', 'hi', 'peopl', 'final', 'everyon', 'onli', 'even', 'plea', 'better', 'awesom', 'tonight', 'let', 'school', 'weekend', 'sure', 'ive', 'way', 'tweet', 'could', 'alway', 'use', 'littl', 'bed', 'hey', 'someth', 'life', 'hour', 'play', 'suck', 'girl', 'alreadi', 'omg', 'yeah', 'man', 'movi', 'next', 'tell', 'soon', 'anoth', 'game', 'never', 'ye', 'guy', 'year', 'rain', 'sick', 'ok', 'guess', 'x', 'big', 'tire', 'keep', 'find', 'becaus', 'bore', 'wont', 'ani', 'lt', 'made', 'yay', 'long', 'live', 'wan', 'call', 'head', 'readi', 'hurt', 'went', 'leav', 'ya', 'sound', 'best', 'damn', 'sun', 'cool', 'talk', 'phone', 'ur', 'th', 'n', 'hous', 'lot', 'weather', 'someon', 'pretti', 'wonder', 'bit', 'check', 'help', 'song', 'read', 'stuff', 'away', 'ta', 'earli', 'eat', 'first', 'done', 'doesnt', 'enjoy', 'isnt', 'video', 'thought', 'monday', 'mom', 'studi', 'excit', 'old', 'car', 'lost', 'world', 'wow', 'give', 'parti', 'left', 'food', 'late', 'ever', 'also', 'birthday', 'friday', 'hard', 'god', 'said', 'finish', 'yet', 'stay', 'befor', 'meet', 'end', 'move', 'ask', 'might', 'summer', 'mayb', 'pic', 'may', 'job', 'clean', 'id', 'beauti', 'caus', 'babi', 'found', 'hot', 'noth', 'sunday', 'exam', 'anyth', 'mani', 'iphon', 'amaz', 'run', 'put', 'free', 'sinc', 'woke', 'buy', 'actual', 'saw', 'poor', 'two', 'almost', 'busi', 'around', 'trip', 'happen', 'famili', 'win', 'cute', 'mean', 'dog', 'glad', 'minut', 'dad', 'place', 'pictur', 'cold', 'everyth', 'listen', 'least', 'cri', 'dream', 'tho', 'fan', 'shit', 'person', 'boo', 'xx', 'anymor', 'sweet', 'ugh', 'mine', 'add', 'post', 'came', 'mileycyru', 'lunch', 'fuck', 'eye', 'wear', 'havent', 'total', 'p', 'chang', 'welcom', 'onc', 'name', 'stuck', 'repli', 'ticket', 'hear', 'luck', 'shop', 'stop', 'book', 'photo', 'seem', 'plan', 'doe', 'anyon', 'r', 'aw', 'june', 'boy', 'pas', 'headach', 'must', 'funni', 'el', 'far', 'yesterday', 'later', 'everi', 'die', 'wasnt', 'b', 'gone', 'month', 'quit', 'without', 'red', 'rock', 'sooo', 'write', 'till', 'test', 'blog', 'alon', 'worri', 'season', 'believ', 'probabl', 'theyr', 'super', 'word', 'part', 'forward', 'real', 'room', 'hehe', 'break', 'hit', 'ride', 'bout', 'snow', 'pain', 'sit', 'side', 'drink', 'stupid', 'full', 'couldnt', 'saturday', 'learn', 'kinda', 'half', 'drive', 'hair', 'aww', 'outsid', 'nite', 'close', 'enough', 'gym', 'hang', 'hug', 'dinner', 'okay', 'abl', 'park', 'cut', 'coffe', 'class', 'cat', 'crazi', 'heart', 'either', 'la', 'walk', 'updat', 'kid', 'face', 'afternoon', 'turn', 'true', 'soo', 'heard', 'album', 'suppos', 'xd', 'train', 'page', 'pm', 'forgot', 'soooo', 'hello', 'care', 'sister', 'wake', 'kind', 'mind', 'awak', 'dude', 'mother', 'fine', 'hell', 'fail', 'vote', 'beach', 'english', 'lmao', 'wrong', 'via', 'concert', 'awww', 'facebook', 'interest', 'understand', 'bring', 'anyway', 'rememb', 'rest', 'goodnight', 'quot', 'set', 'ah', 'idea', 'breakfast', 'hand', 'took', 'crap', 'comput', 'laugh', 'award', 'w', 'pack', 'store', 'confus', 'open', 'absolut', 'dress', 'tv', 'reason', 'bro', 'onlin', 'music', 'chocol', 'horribl', 'moment', 'present', 'min', 'sometim', 'scare', 'nap', 'citi', 'bday', 'stand', 'smile', 'disappoint', 'sing', 'text', 'brother', 'seen', 'link', 'danc', 'team', 'answer', 'coupl', 'spent', 'hahaha', 'ago', 'serious', 'mum', 'star', 'point', 'wouldnt', 'number', 'til', 'jealou', 'yea', 'told', 'ahh', 'hungri', 'ddlovato', 'sunni', 'swim', 'earlier', 'drop', 'sign', 'kill', 'cream', 'st', 'followfriday', 'plz', 'catch', 'wors', 'yall', 'news', 'bodi', 'met', 'download', 'websit', 'fix', 'tea', 'whole', 'btw', 'alright', 'c', 'gt', 'spend', 'airport', 'broke', 'send', 'wed', 'offic', 'order', 'black', 'wtf', 'inde', 'bought', 'shoot', 'cloth', 'cours', 'k', 'mood', 'pool', 'definit', 'cuz', 'sleepi', 'white', 'congrat', 'prob', 'bless', 'em', 'garden', 'fell', 'homework', 'goe', 'idk', 'youll', 'pay', 'three', 'high', 'foot', 'deal', 'asleep', 'stori', 'expect', 'mark', 'laptop', 'messag', 'figur', 'internet', 'kiss', 'differ', 'especi', 'problem', 'togeth', 'special', 'project', 'shower', 'finger', 'ice', 'gave', 'goin', 'begin', 'peac', 'tommcfli', 'visit', 'instead', 'church', 'sore', 'list', 'rip', 'cousin', 'offici', 'money', 'fall', 'fb', 'case', 'fantast', 'hr', 'type', 'juli', 'manag', 'usual', 'vip', 'current', 'short', 'comment', 'longer', 'raini', 'freak', 'burnt', 'question', 'e', 'miley', 'chat', 'worth', 'knew', 'pick', 'cup', 'agre', 'mad', 'pull', 'road', 'lazi', 'town', 'gorgeou', 'door', 'graduat', 'site', 'da', 'cross', 'becom', 'cook', 'degre', 'everyday', 'v', 'youtub', 'sigh', 'tour', 'episod', 'water', 'ppl', 'ate', 'account', 'bum', 'tough', 'ipod', 'forget', 'afraid', 'relax', 'load', 'futur', 'lesson', 'safe', 'complet', 'support', 'wat', 'air', 'email', 'date', 'bright', 'proud', 'easi', 'david', 'slept', 'insid', 'sadli', 'market', 'disney', 'bloodi', 'unfortun', 'french', 'profil', 'talent', 'selena', 'taylor', 'mtv', 'fli', 'tweep', 'wash', 'flu', 'ahhh', 'retweet', 'depress', 'smell', 'suggest', 'aint', 'shot', 'quick', 'taken', 'g', 'kick', 'version', 'upload', 'second', 'le', 'past', 'dead', 'thursday', 'issu', 'appl', 'beer', 'youv', 'bbq', 'camp', 'shirt', 'chanc', 'goodby', 'ladi', 'decid', 'throat', 'rather', 'share', 'shall', 'spot', 'gay', 'favorit', 'lock', 'low', 'nearli', 'race', 'mess', 'camera', 'fact', 'group', 'cake', 'son', 'upset', 'ouch', 'surgeri', 'si', 'tip', 'arent', 'light', 'crack', 'touch', 'bird', 'crash', 'broken', 'leg', 'yum', 'mail', 'ring', 'surpris', 'flip', 'prepar', 'nd', 'code', 'woot', 'terribl', 'tuesday', 'along', 'co', 'italian', 'outta', 'classic', 'stick', 'tast', 'gosh', 'bc', 'wednesday', 'bar', 'due', 'gift', 'perform', 'thunder', 'father', 'except', 'fight', 'dm', 'round', 'warm', 'sim', 'block', 'sooooo', 'lame', 'line', 'math', 'possibl', 'googl', 'f', 'crappi', 'cancel', 'lucki', 'weird', 'parent', 'realiz', 'scari', 'nose', 'vid', 'ad', 'dr', 'fast', 'dang', 'anytim', 'bike', 'youd', 'piss', 'massiv', 'box', 'jesu', 'bos', 'eh', 'perfect', 'nake', 'starbuck', 'cabl', 'sent', 'join', 'paper', 'lose', 'roast', 'fair', 'sat', 'cost', 'sight', 'weak', 'mouth', 'hold', 'hangov', 'burn', 'dnt', 'price', 'storm', 'club', 'dure', 'itll', 'speak', 'joke', 'xoxo', 'blue', 'vacat', 'bye', 'connect', 'peep', 'oop', 'green', 'throw', 'mix', 'sexi', 'gut', 'felt', 'fever', 'doubl', 'jonasbroth', 'practic', 'blond', 'tom', 'apart', 'bite', 'receiv', 'allow', 'interview', 'argh', 'band', 'ooh', 'pa', 'hubbi', 'ear', 'key', 'ruin', 'lay', 'near', 'addict', 'report', 'huge', 'kno', 'wife', 'lone', 'slow', 'adam', 'boyfriend', 'save', 'greet', 'sell', 'chees', 'buddi', 'although', 'hayfev', 'promis', 'scienc', 'everybodi', 'thx', 'annoy', 'tear', 'august', 'deserv', 'event', 'twitpic', 'nail', 'butt', 'va', 'whaddup', 'click', 'woman', 'compani', 'tabl', 'xxx', 'note', 'jump', 'radio', 'arm', 'straight', 'continu', 'sunshin', 'design', 'fav', 'realiti', 'huh', 'bb', 'product', 'mr', 'bet', 'anywher', 'prefer', 'young', 'pop', 'competit', 'troubl', 'guest', 'land', 'random', 'drunk', 'quoti', 'meant', 'small', 'lil', 'ton', 'revis', 'tonit', 'act', 'web', 'fam', 'biolog', 'dear', 'sort', 'caught', 'fit', 'frustrat', 'match', 'cav', 'demi', 'five', 'holiday', 'count', 'system', 'yo', 'twilight', 'wah', 'myspac', 'self', 'luv', 'colleg', 'giant', 'shout', 'mobil', 'heat', 'knee', 'silli', 'difficult', 'ohhh', 'beat', 'forev', 'return', 'bowl', 'histori', 'angel', 'decis', 'tan', 'chicken', 'makeup', 'nurs', 'cooki', 'sale', 'bff', 'yes', 'glass', 'rd', 'scratch', 'station', 'bear', 'alot', 'msn', 'chick', 'awwww', 'app', 'heaven', 'workin', 'nooo', 'shape', 'bitch', 'cell', 'invit', 'cheer', 'bag', 'mac', 'vega', 'exactli', 'rid', 'itun', 'dunno', 'loss', 'age', 'releas', 'coz', 'wing', 'boot', 'plane', 'donniewahlberg', 'girlfriend', 'fire', 'mommi', 'death', 'chill', 'origin', 'log', 'yr', 'sum', 'handl', 'screw', 'shoe', 'celebr', 'ball', 'refer', 'dri', 'commun', 'ob', 'twit', 'ocean', 'pocket', 'channel', 'mention', 'info', 'davidarchi', 'heel', 'ship', 'moon', 'yummi', 'librari', 'bother', 'cover', 'child', 'kitti', 'blah', 'trash', 'rob', 'weve', 'edit', 'vancouv', 'convers', 'pleasur', 'swift', 'tweeter', 'taylorswift', 'entertain', 'record', 'theyll', 'arriv', 'hannah', 'none', 'oo', 'mostli', 'shake', 'direct', 'egg', 'cali', 'san', 'desk', 'sold', 'imma', 'travel', 'correct', 'view', 'robert', 'contact', 'client', 'gettin', 'obvious', 'trick', 'four', 'card', 'piti', 'extrem', 'board', 'sandwich', 'replac', 'restaur', 'spam', 'bu', 'blast', 'jordanknight', 'bone', 'dollar', 'shut', 'exhaust', 'ryan', 'mari', 'yup', 'sunburn', 'pink', 'allerg', 'comp', 'blood', 'scream', 'iran', 'trailer', 'flop', 'prom', 'fri', 'thru', 'nervou', 'street', 'pc', 'instal', 'spring', 'inspir', 'brain', 'pie', 'delici', 'mall', 'jake', 'area', 'tool', 'countri', 'grand', 'neighbor', 'heavi', 'student', 'fish', 'consid', 'def', 'yard', 'teacher', 'brace', 'fake', 'fabul', 'kitten', 'treat', 'neck', 'laker', 'ju', 'nope', 'hospit', 'shell', 'tick', 'burger', 'copi', 'american', 'lie', 'basic', 'pet', 'singl', 'nobodi', 'wit', 'harri', 'canada', 'front', 'bug', 'topic', 'hack', 'file', 'aunt', 'exist', 'top', 'servic', 'shift', 'repeat', 'dougiemcfli', 'voic', 'someday', 'period', 'art', 'excel', 'daddi', 'paid', 'situat', 'killer', 'uh', 'ami', 'shame', 'congratul', 'fml', 'sugar', 'dammit', 'harder', 'ampamp', 'brutal', 'often', 'notic', 'hella', 'bust', 'purchas', 'stall', 'perezhilton', 'flash', 'floor', 'england', 'offer', 'hole', 'cough', 'ray', 'crave', 'lack', 'justin', 'import', 'hahah', 'complain', 'whatev', 'secret', 'destroy', 'user', 'hmm', 'couch', 'mitchel', 'ace', 'schedul', 'hat', 'behind', 'umm', 'toast', 'fresh', 'yep', 'holi', 'bathroom', 'celeb', 'charact', 'penguin', 'screen', 'honey', 'recov', 'kati', 'mate', 'noooooo', 'flower', 'olivia', 'million', 'row', 'sea', 'unhappi', 'closer', 'ew', 'cuddl', 'dark', 'officialnjona', 'laundri', 'neither', 'tshirt', 'mosquito', 'mistak', 'ughh', 'king', 'j', 'jack', 'jam', 'anim', 'attack', 'countdown', 'era', 'known', 'taco', 'diego', 'step', 'xo', 'ach', 'trek', 'skool', 'sweeti', 'noooo', 'gf', 'base', 'shine', 'spin', 'pray', 'appreci', 'easier', 'subway', 'freakin', 'stare', 'explain', 'mike', 'loser', 'assign', 'essay', 'experi', 'shock', 'remov', 'score', 'beyonc', 'kate', 'term', 'ashley', 'men', 'itch', 'parad', 'mama', 'joe', 'process', 'ancient', 'sir', 'program', 'brazil', 'piec', 'thankyou', 'nyc', 'hero', 'senior', 'grade', 'appar', 'languag', 'chillin', 'quiet', 'pump', 'mile', 'bummer', 'wwwtweeteraddercom', 'california', 'sen', 'letter', 'patient', 'prayer', 'whenev', 'spoil', 'guilti', 'worst', 'puppi', 'document', 'london', 'sam', 'kept', 'retir', 'viru', 'battl', 'quotth', 'tht', 'tweetdeck', 'law', 'attempt', 'third', 'com', 'pair', 'stress', 'gener', 'aussi', 'recip', 'con', 'guitar', 'chuck', 'realis', 'suffer', 'hun', 'ima', 'patch', 'presid', 'linux', 'simpl', 'nut', 'yell', 'mi', 'brilliant', 'milk', 'danni', 'mini', 'lime', 'lvatt', 'bottl', 'wind', 'pierc', 'youu', 'mcfli', 'somebodi', 'yah', 'pl', 'humid', 'state', 'background', 'ili', 'heheh', 'lake', 'refus', 'aim', 'articl', 'across', 'de', 'announc', 'toronto', 'creepi', 'respond', 'pregnant', 'steve', 'meal', 'usa', 'option', 'sensibl', 'develop', 'middl', 'draw', 'crowd', 'jersey', 'unit', 'ugli', 'oooh', 'darn', 'spanish', 'darl', 'watchin', 'woop', 'friendship', 'impress', 'roll', 'browni', 'stack', 'entir', 'fat', 'tooo', 'film', 'slowli', 'somehow', 'que', 'pari', 'pan', 'choos', 'accid', 'birmingham', 'h', 'window', 'biggest', 'rt', 'noon', 'mexico', 'bill', 'organ', 'httptweetsg', 'bath', 'creativ', 'jenni', 'uk', 'bla', 'control', 'result', 'wii', 'teach', 'muffin', 'rli', 'color', 'comedyqueen', 'normal', 'speaker', 'solv', 'adventur', 'zach', 'pee', 'grown', 'swag', 'chapter', 'tune', 'theyv', 'depend', 'tend', 'mode', 'paint', 'local', 'avail', 'net', 'slip', 'zealand', 'christian', 'network', 'mesh', 'data', 'stuf', 'survivor', 'tree', 'seattl', 'pride', 'fool', 'oasi', 'salon', 'idiot', 'bell', 'coast', 'singlegirli', 'disneyland', 'damnit', 'print', 'univers', 'lb', 'wine', 'easter', 'wwwtweeterfollowcom', 'miser', 'banksyart', 'doctor', 'florida', 'oven', 'friendfe', 'niec', 'tummi', 'lord', 'remind', 'poster', 'rub', 'thumb', 'awh', 'chine', 'delay', 'audienc', 'woo', 'gna', 'stu', 'tampa', 'downtown', 'alex', 'ran', 'twitt', 'alyssamilano', 'credit', 'fallen', 'macbook', 'coverag', 'grrr', 'sauc', 'north', 'scene', 'lobster', 'errand', 'yeh', 'pillow', 'brought', 'gtlt', 'gomez', 'gnight', 'leftov', 'fault', 'gee', 'smoke', 'drove', 'blackberri', 'fortun', 'urgh', 'epic', 'pen', 'common', 'stoopid', 'aliv', 'musicmonday', 'awe', 'gfalcon', 'jon', 'bgt', 'somethin', 'machin', 'swollen', 'boat', 'lookin', 'closet', 'appt', 'wallac', 'cur', 'south', 'canadian', 'obama', 'combo', 'laura', 'sniffl', 'qld', 'kiddo', 'jona', 'cd', 'request', 'peed', 'tsk', 'religi', 'mah', 'daili', 'jacket', 'toilet', 'concentr', 'theori', 'asap', 'darker', 'mitchelmusso', 'korean', 'corner', 'relat', 'holla', 'australia', 'plant', 'mariahcarey', 'stone', 'otherwis', 'photogen', 'diva', 'woken', 'includ', 'emili', 'hasnt', 'lovin', 'bake', 'chemistri', 'locat', 'derbi', 'greek', 'migrain', 'ghost', 'swap', 'husband', 'jeremi', 'fudg', 'etc', 'chip', 'slightli', 'statement', 'subject', 'imagin', 'tat', 'geniu', 'defeat', 'sa', 'comin', 'gah', 'tweeti', 'shelbi', 'featur', 'doubt', 'nightmar', 'effin', 'queen', 'fanci', 'fruit', 'recommend', 'joy', 'bread', 'teeth', 'fate', 'cruel', 'badli', 'error', 'doji', 'hamster', 'poo', 'turkey', 'twice', 'clock', 'traffic', 'swell', 'simon', 'becca', 'fantasi', 'seven', 'twitterif', 'approv', 'ohh', 'court', 'bunni', 'admit', 'bedroom', 'gotten', 'duti', 'dedic', 'swear', 'human', 'whip', 'stomach', 'boooo', 'toni', 'steal', 'push', 'philippin', 'lili', 'wordpress', 'ty', 'cast', 'clear', 'clue', 'germani', 'uni', 'bang', 'properli', 'folk', 'bottom', 'alien', 'cinema', 'build', 'qualiti', 'thingi', 'lool', 'magic', 'port', 'thanx', 'mornin', 'seri', 'hammer', 'sour', 'straighten', 'proper', 'texa', 'accord', 'younger', 'translat', 'monsoon', 'jessi', 'strang', 'tyler', 'wink', 'momma', 'berlin', 'squarespac', 'cycl', 'reboot', 'royal', 'liz', 'famou', 'press', 'regular', 'effect', 'dentist', 'cottag', 'bg', 'max', 'orang', 'ai', 'franc', 'upgrad', 'sack', 'ridicul', 'youngq', 'wet', 'pub', 'por', 'review', 'toward', 'tara', 'odd', 'yahoo', 'rare', 'public', 'megan', 'dvd', 'nothin', 'festiv', 'footbal', 'escap', 'chem', 'atl', 'salad', 'carrot', 'ahhhhh', 'evil', 'rachel', 'chicago', 'goodmorn', 'seat', 'pe', 'drag', 'warn', 'golf', 'lead', 'zombi', 'mous', 'function', 'ny', 'ne', 'bucket', 'dare', 'roach', 'empti', 'cancer', 'nick', 'oper', 'alexa', 'uncl', 'whoa', 'stat', 'gross', 'batteri', 'pathet', 'attend', 'ca', 'alarm', 'feelin', 'speed', 'internship', 'hav', 'ashleytisdal', 'ash', 'complic', 'ko', 'crush', 'heartbroken', 'ahaha', 'despit', 'japan', 'divorc', 'atlant', 'couldv', 'spare', 'fierc', 'doin', 'russian', 'wooo', 'cheap', 'soccer', 'pound', 'talkin', 'wave', 'downtim', 'jess', 'gloriou', 'member', 'gd', 'cap', 'rainbow', 'yellow', 'wreck', 'midnight', 'toy', 'hooray', 'boil', 'hon', 'flat', 'pig', 'teh', 'garag', 'stream', 'insomnia', 'sunglass', 'woohoo', 'golden', 'chloe', 'shitti', 'indoor', 'center', 'ministri', 'judg', 'purpos', 'determin', 'dancer', 'calori', 'ihop', 'wild', 'blind', 'daughter', 'sex', 'tuck', 'grandma', 'pro', 'rio', 'search', 'montreal', 'pot', 'gig', 'mega', 'nah', 'hide', 'ewww', 'smart', 'nikki', 'older', 'jean', 'dunk', 'piano', 'trey', 'songz', 'forecast', 'grandpa', 'settl', 'kelli', 'crib', 'cloudi', 'healthi', 'andyclemmensen', 'sac', 'stoke', 'loud', 'sway', 'tini', 'manchest', 'social', 'habit', 'delet', 'teddi', 'snap', 'nod', 'noo', 'ashton', 'actor', 'xxxxx', 'besid', 'bf', 'plu', 'addit', 'boom', 'hire', 'programm', 'salli', 'metal', 'posit', 'ughhh', 'goodi', 'papi', 'river', 'clearli', 'blame', 'carniv', 'feed', 'skin', 'weight', 'eventu', 'hugh', 'lauri', 'warp', 'soup', 'unknown', 'drain', 'tech', 'equin', 'tamaraschil', 'respons', 'nessi', 'inch', 'todaybut', 'esp', 'ciara', 'honestli', 'doh', 'ten', 'fo', 'carri', 'iquotm', 'crystalchappel', 'success', 'tank', 'respect', 'civil', 'champion', 'bigger', 'america', 'justic', 'faster', 'kinder', 'main', 'access', 'lab', 'arena', 'campu', 'thnk', 'march', 'diet', 'cruis', 'clown', 'outquot', 'mel', 'desert', 'stole', 'prove', 'platinum', 'ikr', 'josh', 'skate', 'pearl', 'solstic', 'northern', 'sang', 'driver', 'ed', 'prop', 'waaay', 'cooker', 'boston', 'blow', 'deniserichard', 'motiv', 'soft', 'launch', 'custom', 'mequot', 'wore', 'soak', 'wana', 'breath', 'torn', 'hazel', 'heal', 'recoveri', 'brent', 'idol', 'tomato', 'roof', 'boyislost', 'refresh', 'tattoo', 'wt', 'bon', 'qui', 'po', 'babygirl', 'bagquot', 'quoty', 'butch', 'keyshia', 'cole', 'philli', 'collect', 'trade', 'armi', 'hmwk', 'hed', 'nyquil', 'grew', 'pizza', 'transform', 'nt', 'shadez', 'recharg', 'involv', 'eu', 'europ', 'discov', 'hop', 'markhoppu', 'rent', 'princ', 'feat', 'pirat', 'dd', 'sheet', 'pj', 'humor', 'rehears', 'cyru', 'rabbit', 'tut', 'jessicaveronica', 'produc', 'session', 'km', 'dice', 'coach', 'jacob', 'audio', 'browser', 'tweepl', 'rafa', 'twin', 'atampt', 'writer', 'todayand', 'alexalltimelow', 'bohol', 'gunn', 'aaron', 'denis', 'wishin', 'donut', 'breezi', 'bound', 'swine', 'lr', 'georg', 'hai', 'bid', 'ou', 'waitin', 'core', 'wound', 'dose', 'wassup', 'fluid', 'mmm', 'smh', 'ski', 'officialtila', 'gnite', 'chase', 'lip', 'chapstick', 'fu', 'vainfam', 'chi', 'majorli', 'tryin', 'mayor', 'vet', 'miami', 'barney', 'brown', 'ac', 'ep', 'dontforgetchao', 'hee', 'wast', 'heyi', 'boohoo', 'vitamin', 'footi', 'kitchen', 'solut', 'genuin', 'spontan', 'hyper', 'crew', 'grind', 'shouldv', 'dawn', 'wolverin', 'fring', 'gretel', 'fade', 'hood', 'poison', 'christ', 'nausea', 'nine', 'cure', 'hiiii', 'height', 'ow', 'gordon', 'comfort', 'sudden', 'pout', 'appoint', 'ein', 'german', 'frickin', 'happiest', 'whatd', 'struggl', 'wood', 'huhu', 'herb', 'greekpeac', 'bk', 'john', 'rita', 'winner', 'stellar', 'mariah', 'justifi', 'arghhh', 'mrpeterandr', 'femal', 'robin', 'bond', 'tumblr', 'indi', 'nephew', 'forum', 'morrow', 'counti', 'sean', 'vermont', 'scent', 'decent', 'attract', 'icon', 'campaign', 'aka', 'deb', 'postcard', 'parsley', 'liter', 'cnt', 'fragil', 'geographi', 'brunch', 'vision', 'rubi', 'ex', 'privileg', 'jim', 'twist', 'panic', 'restor', 'randomli', 'waah', 'flood', 'mission', 'lauren', 'cuppa', 'pure', 'holli', 'diver', 'cop', 'ceremoni', 'explod', 'sleev', 'alancarr', 'sara', 'shave', 'jerk', 'shoulder', 'honor', 'shortli', 'bastard', 'govern', 'jr', 'ym', 'lang', 'ay', 'tiger', 'grad', 'panda', 'jessica', 'imposs', 'hors', 'placement', 'relationship', 'calin', 'hill', 'monster', 'gr', 'nathanfillion', 'gunna', 'basebal', 'stud', 'six', 'dat', 'particularli', 'hilari', 'icu', 'yank', 'promo', 'meani', 'dessert', 'victori', 'fed', 'yday', 'gemini', 'regist', 'introduc', 'wwwteachercomplaintscom', 'activ', 'bitter', 'ol', 'cobra', 'approach', 'awwwwww', 'bugger', 'trod', 'rude', 'saschascarpulla', 'slap', 'protect', 'mmmmm', 'smash', 'iv', 'individu', 'tongu', 'suga', 'rockin', 'ti', 'tomm', 'held', 'tail', 'memphi', 'sucki', 'vers', 'track', 'spill', 'sympathi', 'tinseltown', 'ver', 'ip', 'ijustin', 'melbourn', 'amnesti', 'dannymcfli', 'reach', 'bueno', 'regard', 'lambert', 'bedtim', 'jare', 'lash', 'borrow', 'wil', 'waffl', 'feder', 'highway', 'hulu', 'hadnt', 'nw', 'implement', 'kent', 'tranquil', 'sorta', 'henri', 'health', 'ping', 'virginia', 'cinderella', 'model', 'mikechaneynew', 'karlerikson', 'exercis', 'japanes', 'cultur', 'lebron', 'lightn', 'predict', 'smooth', 'gene', 'waaa', 'anyhow', 'ferri', 'somewhat', 'usag', 'indiana', 'tiff', 'india', 'velvet', 'discount', 'quotyou', 'ahhhh', 'sayin', 'wud', 'ave', 'haircut', 'lectur', 'previou', 'rpg', 'hangin', 'cow', 'goddamn', 'power', 'mental', 'ireland', 'sport', 'myth', 'mach', 'bella', 'abbi', 'joss', 'transfer', 'juic', 'weeki', 'confirm', 'luvin', 'similar', 'tripl', 'jet', 'roadtrip', 'bliss', 'detail', 'lem', 'fridg', 'reinstal', 'mocha', 'zzzz', 'johnlloydtaylor', 'jenn', 'imag', 'lift', 'surfer', 'nowher', 'dannywood', 'sydney', 'keith', 'smith', 'bing', 'favor', 'ufc', 'goood', 'lean', 'todd', 'flickr', 'subscrib', 'rate', 'blockbust', 'horror', 'mp', 'somewher', 'iranian', 'pre', 'chart', 'han', 'potter', 'reali', 'pour', 'thier', 'jeez', 'surprisingli', 'jadeycakess', 'chariti', 'medium', 'impati', 'mainten', 'dc', 'gray', 'island', 'vampirefreak', 'cigarett', 'whilst', 'recent', 'useless', 'applaud', 'capabl', 'starv', 'simpson', 'meat', 'partner', 'shuffl', 'jackson', 'reject', 'vine', 'aagw', 'portug', 'truth', 'disturb', 'peter', 'blu', 'dough', 'glorianatheband', 'ut', 'banana', 'pepper', 'bacon', 'foxtel', 'cricket', 'eng', 'jog', 'dick', 'alcohol', 'er', 'bein', 'blew', 'quothappi', 'dan', 'output', 'xbox', 'chri', 'davi', 'iam', 'mileey', 'yoou', 'len', 'cram', 'oral', 'aghhh', 'overnight', 'west', 'typhoon', 'manila', 'fm', 'tomorow', 'guid', 'melol', 'makeov', 'knw', 'vent', 'bare', 'debbiefletch', 'nostalg', 'war', 'lan', 'poorli', 'hurrican', 'palm', 'elbizri', 'creek', 'lala', 'within', 'tim', 'contain', 'vomit', 'jt', 'procrastin', 'memori', 'canuck', 'homi', 'scroll', 'van', 'matt', 'omfg', 'yey', 'tj', 'yippe', 'willieday', 'rove', 'doug', 'tee', 'bride', 'danger', 'q', 'murphi', 'deff', 'iz', 'nation', 'brandon', 'stranger', 'txt', 'encourag', 'tha', 'jb', 'heap', 'workshop', 'winter', 'ugg', 'httptwitpiccomfauf', 'chile', 'heyyy', 'perez', 'script', 'miracul', 'martha', 'ef', 'deffo', 'grass', 'photoshop', 'assembl', 'hobbi', 'rang', 'particular', 'resist', 'horrid', 'industri', 'experienc', 'symptom', 'flight', 'cuti', 'effort', 'biz', 'andor', 'headin', 'ward', 'dayquot', 'margarita', 'turnitgrey', 'doot', 'ltlt', 'action', 'rose', 'twug', 'sesh', 'nvm', 'clip', 'tiffani', 'associ', 'sarcasm', 'naw', 'kiki', 'attent', 'marley', 'awkward', 'argu', 'valu', 'heck', 'cash', 'atm', 'blake', 'ull', 'twitterberri', 'dh', 'scrub', 'stage', 'fave', 'allen', 'stroll', 'wire', 'gabe', 'saporta', 'demo', 'betti', 'jamesh', 'masterchef', 'iron', 'tmi', 'alr', 'sticki', 'cloud', 'graviti', 'mourn', 'agh', 'biscuit', 'steak', 'dodger', 'chain', 'hurray', 'tube', 'trend', 'ador', 'seameat', 'threaten', 'contract', 'donni', 'nip', 'cba', 'soap', 'compliment', 'rank', 'weigh', 'harsh', 'patti', 'apt', 'awayit', 'robertson', 'rubbish', 'addthi', 'certain', 'fone', 'postpon', 'climb', 'arkansa', 'studio', 'csi', 'dian', 'pun', 'werent', 'bof', 'appli', 'mint', 'pitch', 'goate', 'soul', 'defin', 'burst', 'fill', 'gear', 'upcom', 'charg', 'grab', 'runnin', 'princess', 'recit', 'bomb', 'purpl', 'costum', 'pur', 'snake', 'papa', 'natur', 'asot', 'cra', 'perhap', 'highlight', 'gmail', 'oki', 'anybodi', 'hail', 'britain', 'silent', 'bubbl', 'gadget', 'remix', 'tiasparkl', 'gg', 'ahha', 'softbal', 'space', 'bose', 'belmont', 'joann', 'brais', 'becuas', 'alpha', 'choic', 'hay', 'payment', 'seriou', 'saddest', 'dam', 'cane', 'bleach', 'prosper', 'restrain', 'aplusk', 'brodi', 'javier', 'stronger', 'li', 'cari', 'larg', 'andi', 'ff', 'elmo', 'allentown', 'tvxq', 'deari', 'contest', 'hung', 'ce', 'booti', 'opportun', 'born', 'z', 'chik', 'cutest', 'quiz', 'mole', 'whether', 'museum', 'kay', 'jonathanrknight', 'liver', 'flew', 'seizur', 'michigan', 'economi', 'quicker', 'donat', 'uncomfort', 'sd', 'freshli', 'squeez', 'jobro', 'consum', 'toe', 'ebay', 'beta', 'poop', 'grow', 'mexican', 'afford', 'verizon', 'hotel', 'level', 'wee', 'melt', 'downstair', 'djknucklehead', 'loo', 'troytaylor', 'thurber', 'swallow', 'demand', 'theme', 'gotcha', 'gum', 'jonathan', 'aa', 'cheryl', 'ohhhh', 'rise', 'reward', 'reserv', 'susan', 'interact', 'workout', 'kevin', 'jame', 'heey', 'kardashian', 'charm', 'au', 'platform', 'tight', 'deliv', 'knuckl', 'fellow', 'wsop', 'crunchi', 'slumber', 'particip', 'debat', 'quotwhat', 'iansi', 'sooooon', 'az', 'stove', 'porn', 'sup', 'sweetest', 'shaun', 'creep', 'bleed', 'drug', 'lipstick', 'appetit', 'ham', 'hn', 'fickl', 'rite', 'hmph', 'plenti', 'asian', 'polic', 'psych', 'bikini', 'technic', 'haz', 'sneez', 'duh', 'doc', 'accident', 'oil', 'written', 'marathon', 'bah', 'zack', 'dumb', 'patio', 'rout', 'primo', 'nadal', 'paddi', 'suckmyhypotheticalbal', 'zzz', 'nasti', 'slice', 'rep', 'melodi', 'energi', 'privat', 'pit', 'wd', 'codi', 'rachmurrayx', 'omggg', 'ittt', 'soderl', 'eddieizzard', 'tn', 'everytim', 'item', 'greatest', 'jonfavreau', 'commerci', 'commit', 'lo', 'bun', 'legend', 'hockey', 'inaperfectworld', 'cera', 'dane', 'expens', 'hmmmm', 'sampl', 'brook', 'podcast', 'partial', 'itouch', 'angri', 'coke', 'fund', 'sticker', 'sexysaturday', 'loll', 'improv', 'zoo', 'fur', 'dy', 'bay', 'eyeshadow', 'silver', 'fort', 'jeth', 'imdb', 'rockindabronx', 'dave', 'wewt', 'edward', 'hmmm', 'temp', 'sec', 'icecream', 'spain', 'aswel', 'ftsk', 'prais', 'nsw', 'azandiamjbb', 'switch', 'thatll', 'ashleyltmsyf', 'pcd', 'tsit', 'higher', 'itchi', 'rosehwang', 'awhil', 'content', 'dig', 'filter', 'joeymcintyr', 'york', 'buffalo', 'tenni', 'tuh', 'tock', 'stupidli', 'moder', 'trap', 'major', 'rampr', 'spread', 'byrn', 'sc', 'charli', 'celtic', 'eric', 'whoot', 'calm', 'hunt', 'field', 'gummi', 'worn', 'gute', 'nacht', 'typo', 'reunion', 'blush', 'yoga', 'pong', 'coldplay', 'jasmin', 'xxxx', 'sunset', 'unlock', 'mav', 'footag', 'homemad', 'te', 'nkluvreva', 'dumpl', 'holmdel', 'tryinghop', 'rel', 'equat', 'domain', 'godaddi', 'gambl', 'lunchdj', 'medic', 'centermi', 'lilli', 'kacker', 'kwkj', 'alik', 'lochnesscullen', 'sallygreen', 'andrewtc', 'syond', 'tayyab', 'pk', 'pedromelian', 'dickhead', 'yungla', 'tomewhit', 'httpmysafaribooksonlinecom', 'hadoop', 'zookeep', 'hillsong', 'wwwhillsongcoza', 'princesssuperc', 'supernatur', 'productwhi', 'willow', 'harper', 'eleww', 'dood', 'vimeo', 'wh', 'inform', 'overload', 'dizzi', 'httpplurkcompxugag', 'schel', 'ellieowen', 'dip', 'feminist', 'focus', 'atp', 'wta', 'cabel', 'ie', 'userag', 'disabl', 'compat', 'hint', 'ewitak', 'nidialmann', 'centz', 'furiousquot', 'cafe', 'eduroam', 'roamnet', 'blakk', 'reckkkin', 'throwwww', 'roam', 'suzyspaatz', 'betterthat', 'readyyi', 'littlefletch', 'starjonesesq', 'marti', 'richard', 'ohsnapitsnicol', 'hahahahahahhahaha', 'hewouldbeluckytobebuttercupdsboyfriend', 'dracorigel', 'rainng', 'spiv', 'supportencourag', 'specialti', 'bayareacheap', 'yocal', 'supercheap', 'mscrissi', 'nopei', 'sephrenia', 'madonnamik', 'cl', 'oklahoma', 'mariosotm', 'newsbeat', 'pmdhazi', 'thingami', 'engineeringdraw', 'backkkkkkk', 'wond', 'broom', 'kada', 'primevalfan', 'morgana', 'merlin', 'theuncoolest', 'batyasmus', 'iriediva', 'rhysatwork', 'dsko', 'beet', 'ausi', 'assignmentsim', 'whipsnad', 'keen', 'therainbowgirl', 'disil', 'openak', 'wireless', 'layer', 'gather', 'savior', 'arco', 'endevor', 'mithss', 'mourniiiiii', 'mornii', 'krishamari', 'tapex', 'avocado', 'avo', 'imaginarypeach', 'marriag', 'equal', 'conting', 'tamiami', 'baileyyscott', 'pimpl', 'forehead', 'trueno', 'luvli', 'sioux', 'younker', 'itsneet', 'alinemcintyr', 'amiga', 'prina', 'wwwmyspacecomtrabeezi', 'marqueshouston', 'quotfugazi', 'patrolquot', 'motto', 'quotif', 'ginorm', 'wierd', 'myy', 'ziiiit', 'nightt', 'soulador', 'malcolmbastien', 'desol', 'wasteland', 'powersurf', 'hardballim', 'smartcard', 'holder', 'amymacdonald', 'leap', 'charlottespeech', 'roborob', 'troyella', 'ggmow', 'tambomanjo', 'vanitaapplebum', 'jbfan', 'abetterplac', 'east', 'meetup', 'hyster', 'fromfl', 'bluecrewdnelli', 'keyboard', 'se', 'kiwinerd', 'carriecruz', 'apranaya', 'rodrigo', 'janehungoz', 'maint', 'itsjustm', 'amaebal', 'nsarryeh', 'rockinggg', 'twitterim', 'mattchew', 'lerff', 'predat', 'gwyn', 'waz', 'hemispher', 'began', 'edt', 'shorter', 'thereallfo', 'charlott', 'fittingroom', 'thegirl', 'relaxin', 'scottish', 'newshungri', 'minxdelux', 'mochacharli', 'warmli', 'churchnot', 'merch', 'heidi', 'frogbur', 'homeworkstudi', 'yearli', 'inter', 'sbhoool', 'theoc', 'davidwalt', 'shwmae', 'voleybal', 'nocarrington', 'editori', 'wwwfandwbcom', 'trr', 'interfac', 'ui', 'priceless', 'fastlan', 'rainnnnit', 'allergi', 'laubow', 'pressur', 'ndsfor', 'atxbrowncoat', 'deede', 'boyf', 'quotthank', 'charlieesimpson', 'everythng', 'chest', 'elphant', 'propl', 'httptinyurlcomkmjgk', 'lovemetoy', 'kerenshandrow', 'dur', 'bateri', 'krisallenmus', 'trophi', 'londonveggarden', 'latitud', 'radish', 'allot', 'harsayi', 'callmi', 'priu', 'solar', 'waitingit', 'techninjo', 'weaklinglolfor', 'premeborn', 'sammoon', 'mummi', 'keithsmyth', 'sulk', 'jafan', 'spahkleprincess', 'movement', 'robbietaylor', 'replay', 'trev', 'cgpodcast', 'hiatu', 'contagi', 'chamber', 'womlinda', 'tinatapa', 'lucien', 'httppingfmihevu', 'somedaywel', 'cubbydaniel', 'aver', 'waith', 'whywhywhywhywhi', 'awar', 'ughhhh', 'pw', 'verif', 'juzgalvez', 'farrel', 'banjo', 'pawsitivlycorki', 'buti', 'oopsyanyway', 'debut', 'lrpw', 'amus', 'sleepin', 'horni', 'bebe', 'rene', 'kathleennyc', 'aaaawww', 'crawl', 'venyadosa', 'retak', 'coopermoto', 'ge', 'ltyear', 'skovi', 'spiritualwarriorscom', 'squirrelytonk', 'cmap', 'happay', 'httpbitlyrxbm', 'abandon', 'hoboridden', 'carlachariss', 'yeahi', 'foodbut', 'carlaim', 'flabbi', 'heycassade', 'blackpool', 'acj', 'mummmmmmmmmmm', 'ibbypop', 'yeeahh', 'yeahh', 'reveng', 'moz', 'pattz', 'mmmi', 'salteh', 'pratchett', 'malden', 'batman', 'assum', 'penis', 'bimbowhat', 'ppisdead', 'definitli', 'invest', 'steamer', 'whoisright', 'httptinyurlcommbzv', 'carolina', 'thespinmd', 'liven', 'weeksah', 'humour', 'flyassmil', 'sevinnyn', 'chubbboy', 'yowch', 'ahhhi', 'happyi', 'trevor', 'airman', 'thedailyblond', 'maestro', 'knowstour', 'httpwwwvimeocom', 'reginapearl', 'trobo', 'shud', 'calig', 'lfta', 'erot', 'shelia', 'harliera', 'welc', 'shawneedj', 'rugbydog', 'kami', 'artist', 'nicolex', 'sparrow', 'roninott', 'burlesquetron', 'champer', 'dye', 'cupboard', 'lauriepringl', 'itxiitx', 'thmaw', 'ladysuff', 'lower', 'uhggggg', 'weav', 'simplest', 'httpplurkcompxedq', 'salioelsol', 'lexiepixi', 'markowen', 'httptwitpiccomlpp', 'ltcluster', 'emotinggt', 'helli', 'radqueen', 'physic', 'therapi', 'marcoluqu', 'prximo', 'vou', 'prometo', 'chorleoni', 'fantasyart', 'nxew', 'musikhoodtheori', 'allll', 'helloooo', 'alc', 'weizen', 'httptinyurlcommdvqpn', 'kiniaq', 'okthi', 'poopedim', 'fairi', 'housethank', 'daveracingkit', 'httptwitpiccomezxi', 'thanksgiv', 'mrrathbon', 'capnskulduggeri', 'logo', 'coriandr', 'pleasei', 'yourfollow', 'sleeepov', 'sarahdownsouth', 'suddenli', 'untouchet', 'htc', 'meganbul', 'hahaor', 'httpmobypicturecomyxykxt', 'bahamabob', 'thehouseofmous', 'lumiel', 'rhysisterix', 'simbacat', 'unnerv', 'oi', 'ksymmond', 'leespoon', 'bloke', 'mashup', 'consist', 'clr', 'nickcarbon', 'dillo', 'fldhtrsxl', 'tbh', 'indic', 'ediciu', 'stanley', 'wolfi', 'fabbo', 'jeangwang', 'royalti', 'fantasyparad', 'requin', 'himynameisemmi', 'yett', 'todayi', 'examswel', 'breaklov', 'itslucyliu', 'httptwitpiccomie', 'innocenteyez', 'ahahaa', 'hihii', 'wimbledon', 'httpwwwtimesonlinecouktolsporttennisarticleec', 'smmfh', 'tmobil', 'qot', 'quard', 'kant', 'emilylovesy', 'hottieand', 'fjdskaf', 'videoo', 'hte', 'firmwar', 'mm', 'atamptfail', 'bolder', 'zomb', 'sleepysongbird', 'scottstok', 'prewritten', 'quotfun', 'friendlyquot', 'daph', 'kuya', 'uli', 'earthquak', 'httpyfrogcomehrsj', 'joshcoxrun', 'katiemccullough', 'kwok', 'duck', 'nest', 'dancejeffree', 'glamourdolley', 'stock', 'janet', 'httptwitpiccomiwp', 'belanja', 'kao', 'itu', 'gampang', 'wwwkaoskitacom', 'httpplurkcompsyd', 'ross', 'rach', 'gobion', 'curb', 'tenbi', 'agoni', 'shahe', 'dorkierthanu', 'dotastronomi', 'httpdotastronomycom', 'explor', 'astronomi', 'madisoncreek', 'thanksyea', 'kidlik', 'jayzeminem', 'sighh', 'wipeout', 'daybusi', 'jstarrrrr', 'partak', 'convinc', 'peach', 'lazy', 'steph', 'penni', 'strait', 'headd', 'achee', 'qtwith', 'mikeg', 'miniscul', 'itoinky', 'applic', 'employ', 'statusd', 'detox', 'queenangel', 'lovethi', 'youngsoulblad', 'teanah', 'awwwfullll', 'meiii', 'manbit', 'ahem', 'remyfost', 'favourit', 'destini', 'desti', 'ryanstar', 'httptwitpiccomubv', 'doritosheaven', 'tierraleon', 'kristen', 'maker', 'callygag', 'blag', 'kgsofficialmrsstudmuffin', 'cocababi', 'bmw', 'bbc', 'tron', 'educ', 'backoh', 'mestera', 'senseiram', 'vlbever', 'engag', 'dental', 'niro', 'chapsick', 'illustrationspackag', 'cincauhangu', 'thirstili', 'thirsti', 'tracyeduk', 'ja', 'neshasagenda', 'bbm', 'brendacopeland', 'muri', 'kung', 'carradin', 'godson', 'rpfanpag', 'sooi', 'omega', 'beg', 'fuckin', 'shatner', 'nimoy', 'httptrimlssw', 'weed', 'kaki', 'laurax', 'atleast', 'demonica', 'becm', 'chrisviamus', 'dinosaur', 'stupend', 'httpplurkcompzex', 'bathand', 'chruch', 'kittykittyw', 'kenni', 'rear', 'espn', 'followup', 'nascar', 'mrbilliam', 'yabbi', 'yobbo', 'kommt', 'nach', 'mnster', 'httptwitpiccomdxp', 'elfinwear', 'lousiana', 'fl', 'gillianlynn', 'seaquest', 'aaah', 'drelli', 'wenni', 'vampir', 'rileyanneoh', 'riley', 'agowait', 'gmtvfun', 'shaunan', 'categor', 'pharmaceut', 'elgosso', 'beccajoybow', 'brentcorrigan', 'dronw', 'mx', 'icytow', 'rekord', 'warren', 'yaaawn', 'beejiv', 'binxi', 'ambeasttt', 'phrase', 'meredithgoldst', 'sadey', 'smack', 'bethclagg', 'xxashleyxx', 'embarrass', 'mondaytot', 'swimsuit', 'httpbitlyzqrag', 'kalediscop', 'bertpalm', 'hoodi', 'emzyjona', 'markhadfield', 'siamus', 'labouriu', 'myprettybird', 'cuddli', 'midnighthar', 'recur', 'wallet', 'lifehigh', 'fog', 'gonelook', 'arrist', 'yeekk', 'goingpass', 'exhaustionhonest', 'quigley', 'potti', 'bazilahali', 'wsopliv', 'unschedul', 'rais', 'sharathpatali', 'mig', 'mariakayi', 'goodness', 'bha', 'airplanesarah', 'chinkerfli', 'wade', 'dozen', 'lattgirl', 'blimey', 'given', 'regalaffair', 'dragonflli', 'fanfic', 'kobler', 'beardandb', 'barbari', 'dudeman', 'sheriff', 'googletalk', 'wwwfringcomgoogletalk', 'bengeeb', 'rubyros', 'cwtchesandchao', 'sickif', 'bedcant', 'bn', 'comn', 'armsth', 'autograph', 'der', 'cozi', 'montana', 'broknsoul', 'aah', 'ohio', 'aislinntighe', 'cooool', 'lalalala', 'aislinn', 'ngampilan', 'quotserangan', 'sorequot', 'paskalamonik', 'nicloa', 'spazzyyarn', 'remedi', 'radna', 'tvdotcomau', 'newinventor', 'lizetyspagetti', 'yoult', 'yadiraa', 'abi', 'settler', 'catan', 'boiler', 'adaftscotslass', 'majidmaskat', 'filsaim', 'anxieti', 'missflora', 'quotbig', 'onequot', 'aiiisoniraheta', 'eeebi', 'splendid', 'bilki', 'marshawn', 'gnw', 'afresh', 'thedebbyryan', 'saynow', 'newest', 'gardasil', 'jab', 'hd', 'expert', 'markmejia', 'albertposi', 'luvv', 'deemmm', 'mothersanthem', 'structur', 'wrk', 'bruis', 'hotfish', 'missattitud', 'numb', 'robinbrown', 'elsbeth', 'toooooo', 'pmsl', 'classroom', 'medscholar', 'surg', 'kinagranni', 'giraffett', 'eddi', 'jeluttrul', 'workdoctor', 'aufsaibel', 'tooooo', 'playhous', 'silveysurf', 'menu', 'knoxvil', 'hmmmpaid', 'cruiseeven', 'smokedrinkdr', 'morbid', 'poker', 'kareemdmapantz', 'youuuu', 'cam', 'yer', 'xxkamm', 'hardass', 'maneat', 'burnley', 'penalti', 'pne', 'mitchley', 'noooe', 'lodg', 'avoid', 'taker', 'termin', 'sowrongitsrach', 'thatbtch', 'hype', 'overdr', 'collegewhat', 'souljaboytellem', 'nathan', 'gorilla', 'pod', 'wreckdagaffey', 'cruella', 'devil', 'dixsin', 'aweschum', 'balconi', 'junglesh', 'buyread', 'quotsit', 'upquot', 'tittch', 'witch', 'sussex', 'tephanyann', 'maximsphoto', 'csb', 'amberasaur', 'annakiss', 'netherland', 'bucketlist', 'uklondon', 'stepp', 'cocktail', 'hahahaa', 'pish', 'gipsydream', 'ouh', 'nanana', 'hustla', 'macdonald', 'council', 'ann', 'yearbook', 'aftergrad', 'chessi', 'moor', 'wwwchessielandcom', 'milfgilf', 'wel', 'cassiyang', 'robcohn', 'ericchamb', 'plain', 'oolong', 'pg', 'sissi', 'maryboomboom', 'maria', 'huni', 'treesyjo', 'licens', 'multnomah', 'marri', 'volpin', 'seanoliv', 'bronx', 'jmercer', 'kalebn', 'aussiefrenchi', 'caramel', 'candl', 'cupcak', 'stil', 'creditmatt', 'memayb', 'truckerdesire', 'httptwitpiccomqjml', 'demon', 'emilmirel', 'ladymaryann', 'likestarlight', 'quotther', 'chiquitaaa', 'internert', 'hotl', 'wirless', 'peachfuzzuk', 'quotto', 'terroristsquot', 'claim', 'accept', 'joepolit', 'maximilu', 'bull', 'ushikwapo', 'shikamana', 'rioncrandel', 'perfectenigma', 'frig', 'nefert', 'lung', 'shainaw', 'peterfacinelli', 'monk', 'applecom', 'argentbeauquest', 'packinggg', 'cristina', 'usuallll', 'pittsburgh', 'giiiiirlllfriend', 'wyhmo', 'cn', 'quotyour', 'indecis', 'decidequot', 'babywear', 'andycoulthard', 'spectacular', 'cr', 'nominatedwin', 'shullygulli', 'throughout', 'kane', 'tonsil', 'sthin', 'swollenth', 'icey', 'talki', 'marcia', 'duet', 'postcross', 'httpcjcreativeblogsnet', 'visa', 'saudi', 'effatjeddah', 'beartwinsmom', 'pogu', 'quotvirtu', 'seminarquot', 'kirstygilfo', 'papardel', 'moonflowerchild', 'indepth', 'grrrr', 'essenc', 'jackyspoodl', 'liar', 'ego', 'yaseminx', 'hah', 'toniiiighhhttt', 'footballwif', 'creamcooki', 'rhyme', 'asdfghjkl', 'msmasiya', 'lizlugo', 'davidhenri', 'douch', 'armywif', 'ohhhhhhhmmmmmi', 'hahahai', 'sureguess', 'homeworkit', 'infoi', 'pharma', 'crusad', 'laurenlewi', 'bobbi', 'roadnot', 'qillerm', 'kissabl', 'whatcd', 'wafflesfm', 'beatl', 'sesam', 'twitterradio', 'aura', 'medstreat', 'owengreav', 'lava', 'brandonekidd', 'rail', 'airtel', 'sofwar', 'httptinyurlcommtsr', 'blueflameit', 'arrow', 'httpthebladesbiz', 'thekhri', 'undi', 'shabzcohelp', 'tomfelton', 'gryffindor', 'whisper', 'yn', 'httpbitlydgv', 'thattttt', 'officialrom', 'uab', 'aimeelili', 'katn', 'damag', 'cfreshdesign', 'tix', 'sunshinetalia', 'ical', 'danielstabil', 'matter', 'firemom', 'heavenli', 'loui', 'missin', 'alreay', 'halspark', 'compass', 'preinstal', 'hal', 'jeremyjacob', 'prayingmoth', 'deck', 'recomend', 'wayn', 'quotfollowingquot', 'nbc', 'djsupacak', 'corymorton', 'checkin', 'tropic', 'eatin', 'corn', 'popsoh', 'cesya', 'godli', 'proport', 'sumth', 'phoebo', 'yeahbut', 'jamesdeen', 'likechocol', 'tylerhilton', 'sweden', 'teaserheadlin', 'quotindiana', 'jonesquotvideo', 'quotbullwhip', 'olquot', 'sm', 'lordmuttley', 'kasrael', 'wiff', 'val', 'charwee', 'bargh', 'psykoidcom', 'httpbitlytvr', 'montgomj', 'ly', 'redeor', 'roomat', 'megviv', 'kaimolo', 'conrad', 'larasati', 'fatmawati', 'address', 'httpbitlyosw', 'emmarileysutton', 'iwasnt', 'thinkn', 'steel', 'julian', 'owe', 'fee', 'httptwitpiccomfvzh', 'cutiesss', 'emoh', 'titan', 'whyd', 'numbersevenfrak', 'yeagettin', 'soyesterday', 'boreddddd', 'boringg', 'geschickt', 'chattyman', 'hungrytiredyet', 'tegan', 'rofl', 'thisnot', 'wallow', 'jamshedwadia', 'mellomat', 'httpblipfmlqn', 'kiwi', 'itstayc', 'kl', 'quotrestquot', 'libbyoliv', 'ravin', 'rabbid', 'cuzimsooocool', 'lunchhhh', 'chap', 'jeskimo', 'quotwing', 'itquot', 'httptwitpiccomvq', 'genesi', 'bicycl', 'easton', 'elizabethbank', 'johnrich', 'bullshit', 'missmillion', 'lolololgood', 'milliyonz', 'lolhop', 'clete', 'slam', 'modusoperandi', 'zace', 'markdamgaard', 'quotpausequot', 'paus', 'daypeopl', 'ryansbankai', 'haeriepyo', 'kinaspac', 'writinginrain', 'shaibrooklyn', 'gina', 'christinem', 'carlottap', 'minam', 'karasaysso', 'drift', 'weisslu', 'sharedwhoev', 'gunkan', 'frown', 'stealth', 'publish', 'romaiel', 'fling', 'cypress', 'godzillaofjapan', 'dati', 'handsom', 'itdont', 'aft', 'boewi', 'iranelect', 'iranrevolut', 'nwoidaho', 'pepsi', 'delymyth', 'lonemat', 'howr', 'slither', 'etsi', 'httpbitlysg', 'razor', 'boomx', 'nothign', 'aneeda', 'aane', 'httptwiclicomaufo', 'flag', 'ponder', 'nichola', 'dassad', 'majd', 'adj', 'linket', 'kszi', 'lakersn', 'unforgett', 'maddog', 'di', 'catherinequinn', 'kiddi', 'pork', 'galaxi', 'crumbl', 'wonderwoman', 'velcrosho', 'ultra', 'onesugarpleas', 'paella', 'worshipmeonli', 'dragonfli', 'dancefloor', 'root', 'canal', 'geez', 'theyd', 'omw', 'anniem', 'vansund', 'compress', 'sisirverduzco', 'trfpp', 'twitterbloggeryoutub', 'ambercartriana', 'weekendit', 'notsosunni', 'alger', 'httpustreamkwn', 'tehskept', 'rondean', 'size', 'downbut', 'miney', 'bobryuu', 'grill', 'adjust', 'pixel', 'rogu', 'quotnickelback', 'somebodyquot', 'httpblipfmgnaq', 'kristenliho', 'persiankiwi', 'gasol', 'ccd', 'pattiblain', 'azkansei', 'ethernet', 'wall', 'rerout', 'duct', 'justinsteven', 'rumour', 'chrisaffair', 'bewar', 'lopskino', 'thit', 'brentlauren', 'lolthi', 'hardcor', 'skeev', 'albert', 'obsesseddiamond', 'httpwwwalexandraburkeofficialcomforum', 'aresef', 'dodlebugdebz', 'manga', 'shojo', 'jonno', 'jellybean', 'das', 'igggnant', 'cuuuz', 'llubyloo', 'numer', 'td', 'amheadlin', 'investig', 'clueless', 'fzmcfadden', 'retail', 'zombietown', 'palat', 'undermin', 'nourish', 'seangt', 'brittanywitt', 'starship', 'alltimelow', 'keza', 'pob', 'worksad', 'cancerne', 'rdben', 'abraham', 'eyesystem', 'bonjour', 'kaphoen', 'ladylogan', 'pood', 'dribbbi', 'httpmylocmehbr', 'jessemccartney', 'fostau', 'idont', 'butim', 'himi', 'inlov', 'jilari', 'karenejon', 'abbsound', 'transmiss', 'rabbitmq', 'macport', 'siberian', 'huski', 'valentino', 'quotlothlorienquot', 'gingerpip', 'xxbinaryxx', 'innoc', 'strong', 'jakeashley', 'httptwitpiccomgcq', 'awesomehaha', 'monacl', 'endur', 'didlix', 'leeleeredlyffoundationgurl', 'tonighttoo', 'kemal', 'jagaaaa', 'httptwitpiccomfbzf', 'paulston', 'expel', 'messi', 'fromthestar', 'oyea', 'section', 'gim', 'shrimp', 'oyster', 'clam', 'crab', 'bondivet', 'evalltimelow', 'brrrr', 'mdphd', 'tub', 'grungi', 'sethsimond', 'httptwitpiccomvi', 'michiev', 'border', 'nevada', 'jaanikaj', 'crafti', 'quotinquisitionquot', 'edg', 'stroke', 'feck', 'jamiereneeatx', 'toinight', 'mmmmmmmmmmm', 'herehttpthemilkshopcom', 'nellleo', 'lotu', 'michaelcalien', 'dudei', 'kim', 'aerosmith', 'bethbabezz', 'beth', 'chermayneugenia', 'cm', 'phobia', 'hairdoo', 'thee', 'kinshuksunil', 'addin', 'httpbitlyouvdh', 'rockinros', 'chicargin', 'satir', 'saumrai', 'cyoun', 'chelseajadexo', 'beyong', 'belief', 'selenagomez', 'sel', 'allin', 'kkq', 'suit', 'mactavish', 'daisyrey', 'gooooood', 'waggingand', 'stella', 'transcript', 'metallica', 'napster', 'greysanatomi', 'baili', 'gutt', 'httpbitlynlp', 'ashboogi', 'iccream', 'barton', 'stung', 'bee', 'baaack', 'fcukin', 'iraq', 'riiight', 'emmjay', 'mannthjerk', 'jerkin', 'ralgrlnc', 'quotpow', 'lovequot', 'stephagresta', 'httptwitpiccomtesi', 'richardwe', 'mcmahon', 'thisisrobthoma', 'azamroselan', 'fashion', 'pernillapriest', 'germancastillo', 'vaya', 'puedo', 'copyright', 'restrict', 'anniverari', 'poppet', 'moro', 'samm', 'linguist', 'mosiquito', 'ram', 'stair', 'losi', 'ky', 'preacher', 'cher', 'confirmationlata', 'blehhh', 'kremnster', 'whenyoustayx', 'bajeezzieesss', 'shen', 'disguis', 'kritia', 'onward', 'ladywoodpeck', 'galleri', 'michel', 'willi', 'worsen', 'joshberri', 'haleybean', 'jasonbradburi', 'tall', 'irisductha', 'sourc', 'sittin', 'classstil', 'cc', 'brokenbrac', 'dish', 'tday', 'jordanrockk', 'jayrockkk', 'chillasap', 'tornado', 'moani', 'chevi', 'wifi', 'codyxvx', 'exhibit', 'musem', 'tomarow', 'anambanana', 'anam', 'hott', 'royalmoneyran', 'whateva', 'moe', 'xjuliah', 'awayboo', 'superwiki', 'httptwitpiccomc', 'jensen', 'belt', 'mikemckenzi', 'fridgequot', 'mckenzi', 'thunderbay', 'ajaedandridg', 'protest', 'saga', 'dsouthi', 'emmaxiii', 'kcneon', 'egosobig', 'shelter', 'tiredit', 'mondayschoolsmelyalata', 'mrtweet', 'webarchitect', 'recept', 'gi', 'siobhan', 'aso', 'lantz', 'hearn', 'myria', 'fug', 'bootsno', 'wedg', 'spelt', 'elli', 'morningand', 'jooli', 'doterati', 'deli', 'nikkeede', 'fjkinnit', 'imevita', 'jonesbeach', 'mattcheetham', 'notif', 'mbweston', 'hollypop', 'eo', 'whitemenac', 'ikiddo', 'raechelmakena', 'choxi', 'spikekforev', 'tulip', 'lupin', 'sprout', 'daffodil', 'aussieali', 'httpconnectmumsningcom', 'glimps', 'funkyferret', 'wonderflantast', 'funfun', 'jbmcdlt', 'londonbut', 'httpbitlyjpljq', 'grrl', 'loverrr', 'taylorclegg', 'cashitoho', 'uniform', 'skirt', 'outsideand', 'baak', 'gwai', 'exclus', 'hottvampchick', 'twittersomeon', 'pleaseeeeee', 'karissa', 'strand', 'column', 'relog', 'impuls', 'flipfold', 'sheldon', 'httpbitlycfgnn', 'maddork', 'likeomgitserika', 'strongest', 'cologn', 'affect', 'unconsci', 'stubborn', 'spn', 'convent', 'vancov', 'aug', 'marcimous', 'robbin', 'iltmaddhous', 'planetmoney', 'thrill', 'bpp', 'jcleyendeck', 'tie', 'ltlizabethgt', 'susjelut', 'gewoon', 'en', 'beetj', 'verkouden', 'niet', 'speciaal', 'merlinsbeard', 'polish', 'janki', 'egyptianeyelin', 'yoshi', 'uye', 'mold', 'vevmo', 'gab', 'stace', 'aawwww', 'magazin', 'gthttpmswhispersblogspotcomlt', 'indulg', 'nighti', 'myc', 'string', 'makael', 'feliciaslatteri', 'experienceand', 'role', 'couldntcant', 'lmhr', 'fest', 'lionett', 'vino', 'semi', 'ivan', 'blksuitbounc', 'fistik', 'spec', 'therezzza', 'lea', 'wwwmulletsgalor', 'babbysit', 'emma', 'lee', 'neglect', 'fran', 'ked', 'ncomplet', 'jaimeleigh', 'whack', 'harrison', 'maesh', 'nbcconnecticut', 'complaint', 'dub', 'alberta', 'codwaw', 'afaelnar', 'mpchristoffel', 'amazon', 'packag', 'canunsur', 'iemast', 'shaqand', 'hideo', 'patron', 'httptwitpiccomgqv', 'mendocino', 'carmi', 'voyag', 'cantmiss', 'ey', 'dayem', 'wog', 'nicsknot', 'cordial', 'citric', 'acid', 'hollymadison', 'overreact', 'gordi', 'eastdallasalic', 'ravensvoic', 'cbr', 'sdcc', 'maggiechicken', 'hurtfamili', 'bochum', 'foward', 'hamburg', 'wolframalpha', 'api', 'stpattysgirl', 'pulaski', 'frenchiesforum', 'blipfm', 'ypsicornerbreweri', 'ale', 'unexpectedli', 'mertanen', 'elsevi', 'bulk', 'holyschmidt', 'woofuckinghoo', 'frankouk', 'tomorrowor', 'hairdresserbut', 'ruinit', 'masala', 'wok', 'cabbyjam', 'enlighten', 'houston', 'mondaytuesdaywednesdaythursday', 'brittanyasnow', 'natshax', 'laurastylez', 'brooklyn', 'clemchaz', 'ghostli', 'fab', 'nashvil', 'juuuuuuust', 'mslaurenlondon', 'sincer', 'mizz', 'nina', 'suitcas', 'httpwwwmegavideocomvfuufyy', 'paulabdulfan', 'tjjackson', 'nerd', 'wudnt', 'cardiodoctorb', 'ehh', 'disappont', 'tomwitek', 'quotbeauti', 'geeksquot', 'modelinia', 'gnutel', 'autoload', 'deskstop', 'softwar', 'popculturezoo', 'implos', 'deterr', 'oit', 'amo', 'timedid', 'cesttressara', 'clairehearti', 'howdi', 'arizona', 'joycecutliff', 'antireligi', 'necessari', 'youeven', 'kassi', 'aprilllllx', 'kristitoliv', 'marissa', 'soldier', 'eyyy', 'hahahaha', 'rosaliiinda', 'highsongbird', 'trynna', 'bldgdont', 'chiropractormi', 'badmayb', 'helpwink', 'hahabut', 'wooooo', 'casita', 'strawberriesthey', 'yippee', 'sf', 'httptwtvitecomnrk', 'pascalzuta', 'nil', 'shavenewok', 'ftth', 'raw', 'httptwitpiccomryxu', 'dayhappi', 'persiankittycat', 'httptwitpiccomfpb', 'billwendel', 'hufh', 'thechristinakim', 'consecraini', 'nj', 'chili', 'wid', 'shmakkin', 'spiff', 'cuddnt', 'solid', 'blud', 'dfunktxpress', 'soyeah', 'wav', 'accommod', 'thu', 'wwhatev', 'trulli', 'hettyk', 'yar', 'thornburi', 'saracen', 'billi', 'connolli', 'tiarajad', 'myidoltown', 'towni', 'gokest', 'ikey', 'vuhhnessa', 'backup', 'dianamus', 'scaredmadsad', 'kimanh', 'mampm', 'candyco', 'dmitri', 'xbmc', 'tivo', 'xboxnetflixstream', 'pollienoodl', 'abroady', 'rooftop', 'arianenovelli', 'mir', 'geht', 'auch', 'shakiraanim', 'strategicle', 'aunttrish', 'depriv', 'luggag', 'anieszkaa', 'ltiitl', 'allnight', 'tanondemand', 'acclim', 'funer', 'sleeveless', 'imopclan', 'stalk', 'moonchul', 'brand', 'estat', 'agent', 'pervert', 'varsiti', 'fanclub', 'kawada', 'microsoft', 'confer', 'economicmayhem', 'passeng', 'hyewha', 'rotorysungkyunkwan', 'catchi', 'httpwwwyoutubecomwatchvbjoiqvad', 'tacki', 'chia', 'kilometr', 'stilll', 'saadmaadhaven', 'emot', 'reeaalli', 'pplz', 'digit', 'textbook', 'salsa', 'illblvndwevr', 'linkypoo', 'desir', 'stinker', 'httpwwwwowwikicomstink', 'httptwitpiccompst', 'cantonfirstfri', 'hose', 'quotil', 'youquot', 'hahahah', 'onto', 'photobucket', 'jashley', 'mcdonaldsdoesnt', 'anymoreonli', 'ojwhaaattt', 'oj', 'davidfarr', 'dirti', 'peachtre', 'heim', 'kaffe', 'wwwheimbsd', 'bean', 'nbaisley', 'dn', 'catawu', 'dilusion', 'disco', 'lace', 'knitpick', 'downer', 'moso', 'hush', 'tweetheart', 'erenmckay', 'bunch', 'yassiryahya', 'zebide', 'spell', 'osttruppen', 'faustino', 'quota', 'terrif', 'httpblipfmivb', 'sethsentri', 'yayayayayayayayay', 'diamond', 'simonplotkin', 'sinu', 'infect', 'einstein', 'distraught', 'mia', 'sleeeeeeeeeeeep', 'konami', 'pegasusnz', 'instruct', 'naval', 'dicken', 'choru', 'booklet', 'jailbreak', 'cydia', 'vnc', 'appear', 'sleepyyyy', 'playcom', 'loli', 'stationfunni', 'heatherrivlin', 'becomingbella', 'indonesian', 'heartbreak', 'gimmedang', 'therealpico', 'stretch', 'crunch', 'pushup', 'aaarghwhat', 'todayc', 'kneeoper', 'weeksthen', 'finehop', 'soj', 'itisdiana', 'wilw', 'counter', 'kleptomaniac', 'carbohydr', 'jenipoynterx', 'gkjohn', 'gloomi', 'eeeeeeek', 'doinggot', 'supris', 'happnin', 'lakeithea', 'director', 'ashhattack', 'kevinista', 'godless', 'socialist', 'joshuakragt', 'mariann', 'laurenconrad', 'joaoa', 'explica', 'caract', 'filmjunk', 'giftw', 'industrialstrength', 'shredder', 'typic', 'yearold', 'unleash', 'yeeah', 'alum', 'exact', 'manmademoon', 'raspberri', 'beatrick', 'fourteen', 'mattgher', 'certainli', 'kiaradario', 'treesandshrub', 'quotluckyquot', 'jorg', 'hier', 'telford', 'groin', 'muscl', 'jep', 'hugthen', 'zow', 'newspap', 'itslindseyshaw', 'lindseyhow', 'jemskii', 'jemski', 'wise', 'carribean', 'vincent', 'playery', 'southwest', 'airplan', 'dayi', 'charger', 'proxi', 'jakehh', 'ficek', 'vanessatansl', 'baromet', 'thunderstorm', 'marcmcpherson', 'tnmomwithkid', 'craft', 'ggd', 'thigh', 'owwwww', 'httpbitlyorqa', 'itslp', 'ish', 'hoursbig', 'httpredtagcrazycom', 'uve', 'restless', 'sleeeeeeeepgrrarr', 'thaisenayan', 'heheheh', 'httpwwwmybottlesupcompoppysbeach', 'missashleytizz', 'yesi', 'methat', 'mei', 'themgoshif', 'simonmcconico', 'mgd', 'lite', 'qualifi', 'michellezink', 'kenneth', 'guyh', 'headac', 'academi', 'lusciousloul', 'shazzyboo', 'deep', 'upstair', 'xeno', 'toriar', 'therefor', 'worthi', 'ahhhhhh', 'hopin', 'tonyblacknyc', 'girardi', 'bullpen', 'protool', 'jackwier', 'slike', 'british', 'orientaldrivah', 'httpbitlymlaf', 'louieouieouie', 'greenhil', 'robbi', 'newbsfaja', 'heyyyi', 'bilblogz', 'wwwredirlanda', 'irlanda', 'cosmohavanes', 'pawpawti', 'mozartdan', 'brandiev', 'dmoneymania', 'httptinyurlcomdfec', 'tatut', 'howlingfantod', 'ranrunsit', 'onelol', 'bump']\n"
     ]
    }
   ],
   "source": [
    "import nltk\n",
    "from nltk.probability import FreqDist\n",
    "\n",
    "\n",
    "all_words = [word for sublist in sampled_df['text_processed'] for word in sublist]\n",
    "\n",
    "\n",
    "word_freq = FreqDist(all_words)\n",
    "\n",
    "\n",
    "top_words = word_freq.most_common(5000)\n",
    "\n",
    "\n",
    "top_5000_words = [word[0] for word in top_words]\n",
    "\n",
    "print(top_5000_words)"
   ]
  },
  {
   "cell_type": "markdown",
   "metadata": {},
   "source": [
    "### Building Features\n",
    "\n",
    "Now let's build the features. Using the top 5,000 words, create a 2-dimensional matrix to record whether each of those words is contained in each document (tweet). Then you also have an output column to indicate whether the sentiment in each tweet is positive. For example, assuming your bag of words has 5 items (`['one', 'two', 'three', 'four', 'five']`) out of 4 documents (`['A', 'B', 'C', 'D']`), your feature set is essentially:\n",
    "\n",
    "| Doc | one | two | three | four | five | is_positive |\n",
    "|---|---|---|---|---|---|---|\n",
    "| A | True | False | False | True | False | True |\n",
    "| B | False | False | False | True | True | False |\n",
    "| C | False | True | False | False | False | True |\n",
    "| D | True | False | False | False | True | False|\n",
    "\n",
    "However, because the `nltk.NaiveBayesClassifier.train` class we will use in the next step does not work with Pandas dataframe, the structure of your feature set should be converted to the Python list looking like below:\n",
    "\n",
    "```python\n",
    "[\n",
    "\t({\n",
    "\t\t'one': True,\n",
    "\t\t'two': False,\n",
    "\t\t'three': False,\n",
    "\t\t'four': True,\n",
    "\t\t'five': False\n",
    "\t}, True),\n",
    "\t({\n",
    "\t\t'one': False,\n",
    "\t\t'two': False,\n",
    "\t\t'three': False,\n",
    "\t\t'four': True,\n",
    "\t\t'five': True\n",
    "\t}, False),\n",
    "\t({\n",
    "\t\t'one': False,\n",
    "\t\t'two': True,\n",
    "\t\t'three': False,\n",
    "\t\t'four': False,\n",
    "\t\t'five': False\n",
    "\t}, True),\n",
    "\t({\n",
    "\t\t'one': True,\n",
    "\t\t'two': False,\n",
    "\t\t'three': False,\n",
    "\t\t'four': False,\n",
    "\t\t'five': True\n",
    "\t}, False)\n",
    "]\n",
    "```\n",
    "\n",
    "To help you in this step, watch the [following video](https://www.youtube.com/watch?v=-vVskDsHcVc) to learn how to build the feature set with Python and NLTK. The source code in this video can be found [here](https://pythonprogramming.net/words-as-features-nltk-tutorial/)."
   ]
  },
  {
   "cell_type": "markdown",
   "metadata": {},
   "source": [
    "[![Building Features](building-features.jpg)](https://www.youtube.com/watch?v=-vVskDsHcVc)"
   ]
  },
  {
   "cell_type": "code",
   "execution_count": 10,
   "metadata": {},
   "outputs": [],
   "source": [
    "import nltk\n",
    "from nltk.probability import FreqDist\n",
    "from nltk.tokenize import word_tokenize\n",
    "\n",
    "\n",
    "all_words = [word for sublist in sampled_df['text_processed'] for word in sublist]\n",
    "\n",
    "\n",
    "word_freq = FreqDist(all_words)\n",
    "\n",
    "\n",
    "top_words = word_freq.most_common(5000)\n",
    "\n",
    "\n",
    "top_5000_words = [word[0] for word in top_words]\n",
    "\n",
    "\n",
    "\n",
    "\n",
    "tweets = ['This is a positive tweet.', 'Negative sentiment in this one.', 'Another positive example.', 'No negativity here.']\n",
    "sentiments = ['positive', 'negative', 'positive', 'negative']\n",
    "\n",
    "\n",
    "feature_set = []\n",
    "\n",
    "\n",
    "for tweet, sentiment in zip(tweets, sentiments):\n",
    "  \n",
    "    words = word_tokenize(tweet)\n",
    "    \n",
    "   \n",
    "    document_features = {word: (word in words) for word in top_5000_words}\n",
    "    \n",
    "    feature_set.append((document_features, sentiment == 'positive'))\n",
    "\n",
    "\n",
    "#acho que está mal\n"
   ]
  },
  {
   "cell_type": "markdown",
   "metadata": {},
   "source": [
    "### Building and Traininng Naive Bayes Model\n",
    "\n",
    "In this step you will split your feature set into a training and a test set. Then you will create a Bayes classifier instance using `nltk.NaiveBayesClassifier.train` ([example](https://www.nltk.org/book/ch06.html)) to train with the training dataset.\n",
    "\n",
    "After training the model, call `classifier.show_most_informative_features()` to inspect the most important features. The output will look like:\n",
    "\n",
    "```\n",
    "Most Informative Features\n",
    "\t    snow = True            False : True   =     34.3 : 1.0\n",
    "\t  easter = True            False : True   =     26.2 : 1.0\n",
    "\t headach = True            False : True   =     20.9 : 1.0\n",
    "\t    argh = True            False : True   =     17.6 : 1.0\n",
    "\tunfortun = True            False : True   =     16.9 : 1.0\n",
    "\t    jona = True             True : False  =     16.2 : 1.0\n",
    "\t     ach = True            False : True   =     14.9 : 1.0\n",
    "\t     sad = True            False : True   =     13.0 : 1.0\n",
    "\t  parent = True            False : True   =     12.9 : 1.0\n",
    "\t  spring = True            False : True   =     12.7 : 1.0\n",
    "```\n",
    "\n",
    "The [following video](https://www.youtube.com/watch?v=rISOsUaTrO4) will help you complete this step. The source code in this video can be found [here](https://pythonprogramming.net/naive-bayes-classifier-nltk-tutorial/)."
   ]
  },
  {
   "cell_type": "markdown",
   "metadata": {},
   "source": [
    "[![Building and Training NB](nb-model-building.jpg)](https://www.youtube.com/watch?v=rISOsUaTrO4)"
   ]
  },
  {
   "cell_type": "code",
   "execution_count": 11,
   "metadata": {},
   "outputs": [
    {
     "name": "stdout",
     "output_type": "stream",
     "text": [
      "Most Informative Features\n",
      "                   tweet = False           False : True   =      1.5 : 1.0\n",
      "                      aa = False           False : True   =      1.0 : 1.0\n",
      "                 aaaawww = False           False : True   =      1.0 : 1.0\n",
      "                    aaah = False           False : True   =      1.0 : 1.0\n",
      "              aaarghwhat = False           False : True   =      1.0 : 1.0\n",
      "                    aagw = False           False : True   =      1.0 : 1.0\n",
      "                     aah = False           False : True   =      1.0 : 1.0\n",
      "                    aane = False           False : True   =      1.0 : 1.0\n",
      "                   aaron = False           False : True   =      1.0 : 1.0\n",
      "                  aawwww = False           False : True   =      1.0 : 1.0\n"
     ]
    }
   ],
   "source": [
    "import nltk\n",
    "from nltk.classify import NaiveBayesClassifier\n",
    "from nltk.probability import FreqDist\n",
    "from nltk.tokenize import word_tokenize\n",
    "\n",
    "\n",
    "\n",
    "all_words = [word for sublist in sampled_df['text_processed'] for word in sublist]\n",
    "\n",
    "\n",
    "word_freq = FreqDist(all_words)\n",
    "\n",
    "\n",
    "top_words = word_freq.most_common(5000)\n",
    "\n",
    "\n",
    "top_5000_words = [word[0] for word in top_words]\n",
    "\n",
    "\n",
    "\n",
    "tweets = ['This is a positive tweet.', 'Negative sentiment in this one.', 'Another positive example.', 'No negativity here.']\n",
    "sentiments = ['positive', 'negative', 'positive', 'negative']\n",
    "\n",
    "\n",
    "feature_set = []\n",
    "\n",
    "for tweet, sentiment in zip(tweets, sentiments):\n",
    "    words = word_tokenize(tweet)\n",
    "    document_features = {word: (word in words) for word in top_5000_words}\n",
    "    feature_set.append((document_features, sentiment == 'positive'))\n",
    "\n",
    "\n",
    "train_size = int(0.8 * len(feature_set))\n",
    "train_set = feature_set[:train_size]\n",
    "test_set = feature_set[train_size:]\n",
    "\n",
    "\n",
    "classifier = NaiveBayesClassifier.train(train_set)\n",
    "\n",
    "\n",
    "classifier.show_most_informative_features(10)"
   ]
  },
  {
   "cell_type": "markdown",
   "metadata": {},
   "source": [
    "### Testing Naive Bayes Model\n",
    "\n",
    "Now we'll test our classifier with the test dataset. This is done by calling `nltk.classify.accuracy(classifier, test)`.\n",
    "\n",
    "As mentioned in one of the tutorial videos, a Naive Bayes model is considered OK if your accuracy score is over 0.6. If your accuracy score is over 0.7, you've done a great job!"
   ]
  },
  {
   "cell_type": "code",
   "execution_count": null,
   "metadata": {},
   "outputs": [],
   "source": [
    "# your code here"
   ]
  },
  {
   "cell_type": "markdown",
   "metadata": {},
   "source": [
    "## Bonus Question 1: Improve Model Performance\n",
    "\n",
    "If you are still not exhausted so far and want to dig deeper, try to improve your classifier performance. There are many aspects you can dig into, for example:\n",
    "\n",
    "* Improve stemming and lemmatization. Inspect your bag of words and the most important features. Are there any words you should furuther remove from analysis? You can append these words to further remove to the stop words list.\n",
    "\n",
    "* Remember we only used the top 5,000 features to build model? Try using different numbers of top features. The bottom line is to use as few features as you can without compromising your model performance. The fewer features you select into your model, the faster your model is trained. Then you can use a larger sample size to improve your model accuracy score."
   ]
  },
  {
   "cell_type": "code",
   "execution_count": null,
   "metadata": {},
   "outputs": [],
   "source": [
    "# your code here"
   ]
  },
  {
   "cell_type": "markdown",
   "metadata": {},
   "source": [
    "## Bonus Question 2: Machine Learning Pipeline\n",
    "\n",
    "In a new Jupyter Notebook, combine all your codes into a function (or a class). Your new function will execute the complete machine learning pipeline job by receiving the dataset location and output the classifier. This will allow you to use your function to predict the sentiment of any tweet in real time. "
   ]
  },
  {
   "cell_type": "code",
   "execution_count": null,
   "metadata": {},
   "outputs": [],
   "source": [
    "# your code here"
   ]
  },
  {
   "cell_type": "markdown",
   "metadata": {},
   "source": [
    "## Bonus Question 3: Apache Spark\n",
    "\n",
    "If you have completed the Apache Spark advanced topic lab, what you can do is to migrate your pipeline from local to a Databricks Notebook. Share your notebook with your instructor and classmates to show off your achievements!"
   ]
  },
  {
   "cell_type": "code",
   "execution_count": null,
   "metadata": {},
   "outputs": [],
   "source": [
    "# your code here"
   ]
  }
 ],
 "metadata": {
  "kernelspec": {
   "display_name": "Python 3",
   "language": "python",
   "name": "python3"
  },
  "language_info": {
   "codemirror_mode": {
    "name": "ipython",
    "version": 3
   },
   "file_extension": ".py",
   "mimetype": "text/x-python",
   "name": "python",
   "nbconvert_exporter": "python",
   "pygments_lexer": "ipython3",
   "version": "3.10.9"
  }
 },
 "nbformat": 4,
 "nbformat_minor": 2
}
