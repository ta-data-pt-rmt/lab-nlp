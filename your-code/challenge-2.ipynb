{
 "cells": [
  {
   "cell_type": "markdown",
   "metadata": {},
   "source": [
    "# Challenge 2: Sentiment Analysis\n",
    "\n",
    "In this challenge we will learn sentiment analysis and practice performing sentiment analysis on Twitter tweets. \n",
    "\n",
    "## Introduction\n",
    "\n",
    "Sentiment analysis is to *systematically identify, extract, quantify, and study affective states and subjective information* based on texts ([reference](https://en.wikipedia.org/wiki/Sentiment_analysis)). In simple words, it's to understand whether a person is happy or unhappy in producing the piece of text. Why we (or rather, companies) care about sentiment in texts? It's because by understanding the sentiments in texts, we will be able to know if our customers are happy or unhappy about our products and services. If they are unhappy, the subsequent action is to figure out what have caused the unhappiness and make improvements.\n",
    "\n",
    "Basic sentiment analysis only understands the *positive* or *negative* (sometimes *neutral* too) polarities of the sentiment. More advanced sentiment analysis will also consider dimensions such as agreement, subjectivity, confidence, irony, and so on. In this challenge we will conduct the basic positive vs negative sentiment analysis based on real Twitter tweets.\n",
    "\n",
    "NLTK comes with a [sentiment analysis package](https://www.nltk.org/api/nltk.sentiment.html). This package is great for dummies to perform sentiment analysis because it requires only the textual data to make predictions. For example:\n",
    "\n",
    "```python\n",
    ">>> from nltk.sentiment.vader import SentimentIntensityAnalyzer\n",
    ">>> txt = \"Ironhack is a Global Tech School ranked num 2 worldwide.  \n",
    " \n",
    "Our mission is to help people transform their careers and join a thriving community of tech professionals that love what they do.\"\n",
    ">>> analyzer = SentimentIntensityAnalyzer()\n",
    ">>> analyzer.polarity_scores(txt)\n",
    "{'neg': 0.0, 'neu': 0.741, 'pos': 0.259, 'compound': 0.8442}\n",
    "```\n",
    "\n",
    "In this challenge, however, you will not use NLTK's sentiment analysis package because in your Machine Learning training in the past 2 weeks you have learned how to make predictions more accurate than that. The [tweets data](https://www.kaggle.com/kazanova/sentiment140) we will be using today are already coded for the positive/negative sentiment. You will be able to use the Naïve Bayes classifier you learned in the lesson to predict the sentiment of tweets based on the labels."
   ]
  },
  {
   "cell_type": "markdown",
   "metadata": {},
   "source": [
    "## Conducting Sentiment Analysis\n",
    "\n",
    "### Loading and Exploring Data\n",
    "\n",
    "The dataset we'll be using today is located on Kaggle (https://www.kaggle.com/kazanova/sentiment140). Once you have downloaded and imported the dataset, it you will need to define the columns names: df.columns = ['target','id','date','flag','user','text']\n",
    "\n",
    "*Notes:* \n",
    "\n",
    "* The dataset is huuuuge (1.6m tweets). When you develop your data analysis codes, you can sample a subset of the data (e.g. 20k records) so that you will save a lot of time when you test your codes."
   ]
  },
  {
   "cell_type": "code",
   "execution_count": 28,
   "metadata": {},
   "outputs": [
    {
     "name": "stderr",
     "output_type": "stream",
     "text": [
      "[nltk_data] Downloading package stopwords to\n",
      "[nltk_data]     C:\\Users\\amara\\AppData\\Roaming\\nltk_data...\n",
      "[nltk_data]   Package stopwords is already up-to-date!\n"
     ]
    }
   ],
   "source": [
    "import nltk\n",
    "from nltk.tokenize import word_tokenize\n",
    "from nltk.stem import WordNetLemmatizer \n",
    "from nltk.corpus import wordnet\n",
    "from nltk.corpus import stopwords\n",
    "from nltk.stem import PorterStemmer\n",
    "nltk.download('stopwords')\n",
    "import re"
   ]
  },
  {
   "cell_type": "code",
   "execution_count": 1,
   "metadata": {},
   "outputs": [],
   "source": [
    "# your code here\n",
    "import pandas as pd"
   ]
  },
  {
   "cell_type": "code",
   "execution_count": 11,
   "metadata": {},
   "outputs": [
    {
     "data": {
      "text/html": [
       "<div>\n",
       "<style scoped>\n",
       "    .dataframe tbody tr th:only-of-type {\n",
       "        vertical-align: middle;\n",
       "    }\n",
       "\n",
       "    .dataframe tbody tr th {\n",
       "        vertical-align: top;\n",
       "    }\n",
       "\n",
       "    .dataframe thead th {\n",
       "        text-align: right;\n",
       "    }\n",
       "</style>\n",
       "<table border=\"1\" class=\"dataframe\">\n",
       "  <thead>\n",
       "    <tr style=\"text-align: right;\">\n",
       "      <th></th>\n",
       "      <th>0</th>\n",
       "      <th>1467810369</th>\n",
       "      <th>Mon Apr 06 22:19:45 PDT 2009</th>\n",
       "      <th>NO_QUERY</th>\n",
       "      <th>_TheSpecialOne_</th>\n",
       "      <th>@switchfoot http://twitpic.com/2y1zl - Awww, that's a bummer.  You shoulda got David Carr of Third Day to do it. ;D</th>\n",
       "    </tr>\n",
       "  </thead>\n",
       "  <tbody>\n",
       "    <tr>\n",
       "      <th>422170</th>\n",
       "      <td>0</td>\n",
       "      <td>2062589967</td>\n",
       "      <td>Sat Jun 06 23:40:55 PDT 2009</td>\n",
       "      <td>NO_QUERY</td>\n",
       "      <td>JonConnelly</td>\n",
       "      <td>@cambie where are you? /cries</td>\n",
       "    </tr>\n",
       "    <tr>\n",
       "      <th>1237152</th>\n",
       "      <td>4</td>\n",
       "      <td>1992975412</td>\n",
       "      <td>Mon Jun 01 09:37:41 PDT 2009</td>\n",
       "      <td>NO_QUERY</td>\n",
       "      <td>PnutButterNoJam</td>\n",
       "      <td>kick off your shoes and relax your feet</td>\n",
       "    </tr>\n",
       "    <tr>\n",
       "      <th>1427832</th>\n",
       "      <td>4</td>\n",
       "      <td>2059461900</td>\n",
       "      <td>Sat Jun 06 16:59:06 PDT 2009</td>\n",
       "      <td>NO_QUERY</td>\n",
       "      <td>jemestica</td>\n",
       "      <td>Annoyed but it's whatever,</td>\n",
       "    </tr>\n",
       "    <tr>\n",
       "      <th>130969</th>\n",
       "      <td>0</td>\n",
       "      <td>1835422068</td>\n",
       "      <td>Mon May 18 05:57:29 PDT 2009</td>\n",
       "      <td>NO_QUERY</td>\n",
       "      <td>centerofright</td>\n",
       "      <td>@Retributions boss, no fullstops in politics w...</td>\n",
       "    </tr>\n",
       "    <tr>\n",
       "      <th>616634</th>\n",
       "      <td>0</td>\n",
       "      <td>2226738367</td>\n",
       "      <td>Thu Jun 18 12:19:27 PDT 2009</td>\n",
       "      <td>NO_QUERY</td>\n",
       "      <td>WallTweet</td>\n",
       "      <td>@workformeonline I didn't understand that   Tr...</td>\n",
       "    </tr>\n",
       "  </tbody>\n",
       "</table>\n",
       "</div>"
      ],
      "text/plain": [
       "         0  1467810369  Mon Apr 06 22:19:45 PDT 2009  NO_QUERY  \\\n",
       "422170   0  2062589967  Sat Jun 06 23:40:55 PDT 2009  NO_QUERY   \n",
       "1237152  4  1992975412  Mon Jun 01 09:37:41 PDT 2009  NO_QUERY   \n",
       "1427832  4  2059461900  Sat Jun 06 16:59:06 PDT 2009  NO_QUERY   \n",
       "130969   0  1835422068  Mon May 18 05:57:29 PDT 2009  NO_QUERY   \n",
       "616634   0  2226738367  Thu Jun 18 12:19:27 PDT 2009  NO_QUERY   \n",
       "\n",
       "         _TheSpecialOne_  \\\n",
       "422170       JonConnelly   \n",
       "1237152  PnutButterNoJam   \n",
       "1427832        jemestica   \n",
       "130969     centerofright   \n",
       "616634         WallTweet   \n",
       "\n",
       "        @switchfoot http://twitpic.com/2y1zl - Awww, that's a bummer.  You shoulda got David Carr of Third Day to do it. ;D  \n",
       "422170                      @cambie where are you? /cries                                                                    \n",
       "1237152           kick off your shoes and relax your feet                                                                    \n",
       "1427832                        Annoyed but it's whatever,                                                                    \n",
       "130969   @Retributions boss, no fullstops in politics w...                                                                   \n",
       "616634   @workformeonline I didn't understand that   Tr...                                                                   "
      ]
     },
     "execution_count": 11,
     "metadata": {},
     "output_type": "execute_result"
    }
   ],
   "source": [
    "tweets = pd.read_csv('training.1600000.processed.noemoticon.csv',encoding='latin-1').sample(10000)\n",
    "tweets.head()"
   ]
  },
  {
   "cell_type": "code",
   "execution_count": 12,
   "metadata": {},
   "outputs": [
    {
     "name": "stdout",
     "output_type": "stream",
     "text": [
      "<class 'pandas.core.frame.DataFrame'>\n",
      "Int64Index: 10000 entries, 422170 to 758083\n",
      "Data columns (total 6 columns):\n",
      " #   Column                                                                                                               Non-Null Count  Dtype \n",
      "---  ------                                                                                                               --------------  ----- \n",
      " 0   0                                                                                                                    10000 non-null  int64 \n",
      " 1   1467810369                                                                                                           10000 non-null  int64 \n",
      " 2   Mon Apr 06 22:19:45 PDT 2009                                                                                         10000 non-null  object\n",
      " 3   NO_QUERY                                                                                                             10000 non-null  object\n",
      " 4   _TheSpecialOne_                                                                                                      10000 non-null  object\n",
      " 5   @switchfoot http://twitpic.com/2y1zl - Awww, that's a bummer.  You shoulda got David Carr of Third Day to do it. ;D  10000 non-null  object\n",
      "dtypes: int64(2), object(4)\n",
      "memory usage: 546.9+ KB\n"
     ]
    }
   ],
   "source": [
    "tweets.info()"
   ]
  },
  {
   "cell_type": "code",
   "execution_count": 13,
   "metadata": {},
   "outputs": [
    {
     "data": {
      "text/html": [
       "<div>\n",
       "<style scoped>\n",
       "    .dataframe tbody tr th:only-of-type {\n",
       "        vertical-align: middle;\n",
       "    }\n",
       "\n",
       "    .dataframe tbody tr th {\n",
       "        vertical-align: top;\n",
       "    }\n",
       "\n",
       "    .dataframe thead th {\n",
       "        text-align: right;\n",
       "    }\n",
       "</style>\n",
       "<table border=\"1\" class=\"dataframe\">\n",
       "  <thead>\n",
       "    <tr style=\"text-align: right;\">\n",
       "      <th></th>\n",
       "      <th>target</th>\n",
       "      <th>id</th>\n",
       "      <th>date</th>\n",
       "      <th>flag</th>\n",
       "      <th>user</th>\n",
       "      <th>text</th>\n",
       "    </tr>\n",
       "  </thead>\n",
       "  <tbody>\n",
       "    <tr>\n",
       "      <th>422170</th>\n",
       "      <td>0</td>\n",
       "      <td>2062589967</td>\n",
       "      <td>Sat Jun 06 23:40:55 PDT 2009</td>\n",
       "      <td>NO_QUERY</td>\n",
       "      <td>JonConnelly</td>\n",
       "      <td>@cambie where are you? /cries</td>\n",
       "    </tr>\n",
       "    <tr>\n",
       "      <th>1237152</th>\n",
       "      <td>4</td>\n",
       "      <td>1992975412</td>\n",
       "      <td>Mon Jun 01 09:37:41 PDT 2009</td>\n",
       "      <td>NO_QUERY</td>\n",
       "      <td>PnutButterNoJam</td>\n",
       "      <td>kick off your shoes and relax your feet</td>\n",
       "    </tr>\n",
       "    <tr>\n",
       "      <th>1427832</th>\n",
       "      <td>4</td>\n",
       "      <td>2059461900</td>\n",
       "      <td>Sat Jun 06 16:59:06 PDT 2009</td>\n",
       "      <td>NO_QUERY</td>\n",
       "      <td>jemestica</td>\n",
       "      <td>Annoyed but it's whatever,</td>\n",
       "    </tr>\n",
       "    <tr>\n",
       "      <th>130969</th>\n",
       "      <td>0</td>\n",
       "      <td>1835422068</td>\n",
       "      <td>Mon May 18 05:57:29 PDT 2009</td>\n",
       "      <td>NO_QUERY</td>\n",
       "      <td>centerofright</td>\n",
       "      <td>@Retributions boss, no fullstops in politics w...</td>\n",
       "    </tr>\n",
       "    <tr>\n",
       "      <th>616634</th>\n",
       "      <td>0</td>\n",
       "      <td>2226738367</td>\n",
       "      <td>Thu Jun 18 12:19:27 PDT 2009</td>\n",
       "      <td>NO_QUERY</td>\n",
       "      <td>WallTweet</td>\n",
       "      <td>@workformeonline I didn't understand that   Tr...</td>\n",
       "    </tr>\n",
       "  </tbody>\n",
       "</table>\n",
       "</div>"
      ],
      "text/plain": [
       "         target          id                          date      flag  \\\n",
       "422170        0  2062589967  Sat Jun 06 23:40:55 PDT 2009  NO_QUERY   \n",
       "1237152       4  1992975412  Mon Jun 01 09:37:41 PDT 2009  NO_QUERY   \n",
       "1427832       4  2059461900  Sat Jun 06 16:59:06 PDT 2009  NO_QUERY   \n",
       "130969        0  1835422068  Mon May 18 05:57:29 PDT 2009  NO_QUERY   \n",
       "616634        0  2226738367  Thu Jun 18 12:19:27 PDT 2009  NO_QUERY   \n",
       "\n",
       "                    user                                               text  \n",
       "422170       JonConnelly                     @cambie where are you? /cries   \n",
       "1237152  PnutButterNoJam           kick off your shoes and relax your feet   \n",
       "1427832        jemestica                        Annoyed but it's whatever,   \n",
       "130969     centerofright  @Retributions boss, no fullstops in politics w...  \n",
       "616634         WallTweet  @workformeonline I didn't understand that   Tr...  "
      ]
     },
     "execution_count": 13,
     "metadata": {},
     "output_type": "execute_result"
    }
   ],
   "source": [
    "tweets.columns = ['target','id','date','flag','user','text']\n",
    "tweets.head()"
   ]
  },
  {
   "cell_type": "markdown",
   "metadata": {},
   "source": [
    "### Prepare Textual Data for Sentiment Analysis\n",
    "\n",
    "Now, apply the functions you have written in Challenge 1 to your whole data set. These functions include:\n",
    "\n",
    "* `clean_up()`\n",
    "\n",
    "* `tokenize()`\n",
    "\n",
    "* `stem_and_lemmatize()`\n",
    "\n",
    "* `remove_stopwords()`\n",
    "\n",
    "Create a new column called `text_processed` in the dataframe to contain the processed data. At the end, your `text_processed` column should contain lists of word tokens that are cleaned up. Your data should look like below:\n",
    "\n",
    "![Processed Data](data-cleaning-results.png)"
   ]
  },
  {
   "cell_type": "code",
   "execution_count": 29,
   "metadata": {},
   "outputs": [],
   "source": [
    "# your code here\n",
    "\n",
    "def clean_up(s):\n",
    "    URLless_string = re.sub(r'\\w+:\\/{2}[\\d\\w-]+(\\.[\\d\\w-]+)*(?:(?:\\/[^\\s/]*))*', '', s)\n",
    "    return re.sub('[^A-Za-z]+', ' ', URLless_string).lower().strip()\n",
    "\n",
    "def tokenize(s):\n",
    "    tokens = word_tokenize(s)\n",
    "    return tokens\n",
    "\n",
    "def stem_and_lemmatize(l):\n",
    "    #stemming\n",
    "    ps = PorterStemmer()\n",
    "    stemmed = [ps.stem(w) for w in l]\n",
    "\n",
    "    #lemmatization  \n",
    "    lemmatizer = WordNetLemmatizer() \n",
    "    lemmatized = [lemmatizer.lemmatize(word) for word in stemmed]\n",
    "    return lemmatized\n",
    "\n",
    "def remove_stopwords(l):\n",
    "    without_sw = [word for word in l if not word in stopwords.words()]\n",
    "    return without_sw\n",
    "\n",
    "def text_proccesed(row):\n",
    "    C=clean_up(row)\n",
    "    T=tokenize(C)\n",
    "    S=stem_and_lemmatize(T)\n",
    "    R=remove_stopwords(S)\n",
    "    return R"
   ]
  },
  {
   "cell_type": "code",
   "execution_count": 30,
   "metadata": {},
   "outputs": [
    {
     "ename": "KeyboardInterrupt",
     "evalue": "",
     "output_type": "error",
     "traceback": [
      "\u001b[1;31m---------------------------------------------------------------------------\u001b[0m",
      "\u001b[1;31mKeyboardInterrupt\u001b[0m                         Traceback (most recent call last)",
      "\u001b[1;32mc:\\Users\\amara\\OneDrive\\Ironhack\\Week-21\\lab-nlp\\your-code\\challenge-2.ipynb Celda 10\u001b[0m in \u001b[0;36m<module>\u001b[1;34m\u001b[0m\n\u001b[1;32m----> <a href='vscode-notebook-cell:/c%3A/Users/amara/OneDrive/Ironhack/Week-21/lab-nlp/your-code/challenge-2.ipynb#X32sZmlsZQ%3D%3D?line=0'>1</a>\u001b[0m tweets[\u001b[39m'\u001b[39m\u001b[39mtext_proccesed\u001b[39m\u001b[39m'\u001b[39m]\u001b[39m=\u001b[39mtweets[\u001b[39m'\u001b[39;49m\u001b[39mtext\u001b[39;49m\u001b[39m'\u001b[39;49m]\u001b[39m.\u001b[39;49mapply(text_proccesed)\n\u001b[0;32m      <a href='vscode-notebook-cell:/c%3A/Users/amara/OneDrive/Ironhack/Week-21/lab-nlp/your-code/challenge-2.ipynb#X32sZmlsZQ%3D%3D?line=1'>2</a>\u001b[0m tweets\u001b[39m.\u001b[39mhead()\n",
      "File \u001b[1;32mc:\\Users\\amara\\anaconda3\\lib\\site-packages\\pandas\\core\\series.py:4357\u001b[0m, in \u001b[0;36mSeries.apply\u001b[1;34m(self, func, convert_dtype, args, **kwargs)\u001b[0m\n\u001b[0;32m   4247\u001b[0m \u001b[39mdef\u001b[39;00m \u001b[39mapply\u001b[39m(\n\u001b[0;32m   4248\u001b[0m     \u001b[39mself\u001b[39m,\n\u001b[0;32m   4249\u001b[0m     func: AggFuncType,\n\u001b[1;32m   (...)\u001b[0m\n\u001b[0;32m   4252\u001b[0m     \u001b[39m*\u001b[39m\u001b[39m*\u001b[39mkwargs,\n\u001b[0;32m   4253\u001b[0m ) \u001b[39m-\u001b[39m\u001b[39m>\u001b[39m FrameOrSeriesUnion:\n\u001b[0;32m   4254\u001b[0m     \u001b[39m\"\"\"\u001b[39;00m\n\u001b[0;32m   4255\u001b[0m \u001b[39m    Invoke function on values of Series.\u001b[39;00m\n\u001b[0;32m   4256\u001b[0m \n\u001b[1;32m   (...)\u001b[0m\n\u001b[0;32m   4355\u001b[0m \u001b[39m    dtype: float64\u001b[39;00m\n\u001b[0;32m   4356\u001b[0m \u001b[39m    \"\"\"\u001b[39;00m\n\u001b[1;32m-> 4357\u001b[0m     \u001b[39mreturn\u001b[39;00m SeriesApply(\u001b[39mself\u001b[39;49m, func, convert_dtype, args, kwargs)\u001b[39m.\u001b[39;49mapply()\n",
      "File \u001b[1;32mc:\\Users\\amara\\anaconda3\\lib\\site-packages\\pandas\\core\\apply.py:1043\u001b[0m, in \u001b[0;36mSeriesApply.apply\u001b[1;34m(self)\u001b[0m\n\u001b[0;32m   1039\u001b[0m \u001b[39mif\u001b[39;00m \u001b[39misinstance\u001b[39m(\u001b[39mself\u001b[39m\u001b[39m.\u001b[39mf, \u001b[39mstr\u001b[39m):\n\u001b[0;32m   1040\u001b[0m     \u001b[39m# if we are a string, try to dispatch\u001b[39;00m\n\u001b[0;32m   1041\u001b[0m     \u001b[39mreturn\u001b[39;00m \u001b[39mself\u001b[39m\u001b[39m.\u001b[39mapply_str()\n\u001b[1;32m-> 1043\u001b[0m \u001b[39mreturn\u001b[39;00m \u001b[39mself\u001b[39;49m\u001b[39m.\u001b[39;49mapply_standard()\n",
      "File \u001b[1;32mc:\\Users\\amara\\anaconda3\\lib\\site-packages\\pandas\\core\\apply.py:1098\u001b[0m, in \u001b[0;36mSeriesApply.apply_standard\u001b[1;34m(self)\u001b[0m\n\u001b[0;32m   1092\u001b[0m         values \u001b[39m=\u001b[39m obj\u001b[39m.\u001b[39mastype(\u001b[39mobject\u001b[39m)\u001b[39m.\u001b[39m_values\n\u001b[0;32m   1093\u001b[0m         \u001b[39m# error: Argument 2 to \"map_infer\" has incompatible type\u001b[39;00m\n\u001b[0;32m   1094\u001b[0m         \u001b[39m# \"Union[Callable[..., Any], str, List[Union[Callable[..., Any], str]],\u001b[39;00m\n\u001b[0;32m   1095\u001b[0m         \u001b[39m# Dict[Hashable, Union[Union[Callable[..., Any], str],\u001b[39;00m\n\u001b[0;32m   1096\u001b[0m         \u001b[39m# List[Union[Callable[..., Any], str]]]]]\"; expected\u001b[39;00m\n\u001b[0;32m   1097\u001b[0m         \u001b[39m# \"Callable[[Any], Any]\"\u001b[39;00m\n\u001b[1;32m-> 1098\u001b[0m         mapped \u001b[39m=\u001b[39m lib\u001b[39m.\u001b[39;49mmap_infer(\n\u001b[0;32m   1099\u001b[0m             values,\n\u001b[0;32m   1100\u001b[0m             f,  \u001b[39m# type: ignore[arg-type]\u001b[39;49;00m\n\u001b[0;32m   1101\u001b[0m             convert\u001b[39m=\u001b[39;49m\u001b[39mself\u001b[39;49m\u001b[39m.\u001b[39;49mconvert_dtype,\n\u001b[0;32m   1102\u001b[0m         )\n\u001b[0;32m   1104\u001b[0m \u001b[39mif\u001b[39;00m \u001b[39mlen\u001b[39m(mapped) \u001b[39mand\u001b[39;00m \u001b[39misinstance\u001b[39m(mapped[\u001b[39m0\u001b[39m], ABCSeries):\n\u001b[0;32m   1105\u001b[0m     \u001b[39m# GH 25959 use pd.array instead of tolist\u001b[39;00m\n\u001b[0;32m   1106\u001b[0m     \u001b[39m# so extension arrays can be used\u001b[39;00m\n\u001b[0;32m   1107\u001b[0m     \u001b[39mreturn\u001b[39;00m obj\u001b[39m.\u001b[39m_constructor_expanddim(pd_array(mapped), index\u001b[39m=\u001b[39mobj\u001b[39m.\u001b[39mindex)\n",
      "File \u001b[1;32mc:\\Users\\amara\\anaconda3\\lib\\site-packages\\pandas\\_libs\\lib.pyx:2859\u001b[0m, in \u001b[0;36mpandas._libs.lib.map_infer\u001b[1;34m()\u001b[0m\n",
      "\u001b[1;32mc:\\Users\\amara\\OneDrive\\Ironhack\\Week-21\\lab-nlp\\your-code\\challenge-2.ipynb Celda 10\u001b[0m in \u001b[0;36mtext_proccesed\u001b[1;34m(row)\u001b[0m\n\u001b[0;32m     <a href='vscode-notebook-cell:/c%3A/Users/amara/OneDrive/Ironhack/Week-21/lab-nlp/your-code/challenge-2.ipynb#X32sZmlsZQ%3D%3D?line=26'>27</a>\u001b[0m T\u001b[39m=\u001b[39mtokenize(C)\n\u001b[0;32m     <a href='vscode-notebook-cell:/c%3A/Users/amara/OneDrive/Ironhack/Week-21/lab-nlp/your-code/challenge-2.ipynb#X32sZmlsZQ%3D%3D?line=27'>28</a>\u001b[0m S\u001b[39m=\u001b[39mstem_and_lemmatize(T)\n\u001b[1;32m---> <a href='vscode-notebook-cell:/c%3A/Users/amara/OneDrive/Ironhack/Week-21/lab-nlp/your-code/challenge-2.ipynb#X32sZmlsZQ%3D%3D?line=28'>29</a>\u001b[0m R\u001b[39m=\u001b[39mremove_stopwords(S)\n\u001b[0;32m     <a href='vscode-notebook-cell:/c%3A/Users/amara/OneDrive/Ironhack/Week-21/lab-nlp/your-code/challenge-2.ipynb#X32sZmlsZQ%3D%3D?line=29'>30</a>\u001b[0m \u001b[39mreturn\u001b[39;00m R\n",
      "\u001b[1;32mc:\\Users\\amara\\OneDrive\\Ironhack\\Week-21\\lab-nlp\\your-code\\challenge-2.ipynb Celda 10\u001b[0m in \u001b[0;36mremove_stopwords\u001b[1;34m(l)\u001b[0m\n\u001b[0;32m     <a href='vscode-notebook-cell:/c%3A/Users/amara/OneDrive/Ironhack/Week-21/lab-nlp/your-code/challenge-2.ipynb#X32sZmlsZQ%3D%3D?line=20'>21</a>\u001b[0m \u001b[39mdef\u001b[39;00m \u001b[39mremove_stopwords\u001b[39m(l):\n\u001b[1;32m---> <a href='vscode-notebook-cell:/c%3A/Users/amara/OneDrive/Ironhack/Week-21/lab-nlp/your-code/challenge-2.ipynb#X32sZmlsZQ%3D%3D?line=21'>22</a>\u001b[0m     without_sw \u001b[39m=\u001b[39m [word \u001b[39mfor\u001b[39;00m word \u001b[39min\u001b[39;00m l \u001b[39mif\u001b[39;00m \u001b[39mnot\u001b[39;00m word \u001b[39min\u001b[39;00m stopwords\u001b[39m.\u001b[39mwords()]\n\u001b[0;32m     <a href='vscode-notebook-cell:/c%3A/Users/amara/OneDrive/Ironhack/Week-21/lab-nlp/your-code/challenge-2.ipynb#X32sZmlsZQ%3D%3D?line=22'>23</a>\u001b[0m     \u001b[39mreturn\u001b[39;00m without_sw\n",
      "\u001b[1;32mc:\\Users\\amara\\OneDrive\\Ironhack\\Week-21\\lab-nlp\\your-code\\challenge-2.ipynb Celda 10\u001b[0m in \u001b[0;36m<listcomp>\u001b[1;34m(.0)\u001b[0m\n\u001b[0;32m     <a href='vscode-notebook-cell:/c%3A/Users/amara/OneDrive/Ironhack/Week-21/lab-nlp/your-code/challenge-2.ipynb#X32sZmlsZQ%3D%3D?line=20'>21</a>\u001b[0m \u001b[39mdef\u001b[39;00m \u001b[39mremove_stopwords\u001b[39m(l):\n\u001b[1;32m---> <a href='vscode-notebook-cell:/c%3A/Users/amara/OneDrive/Ironhack/Week-21/lab-nlp/your-code/challenge-2.ipynb#X32sZmlsZQ%3D%3D?line=21'>22</a>\u001b[0m     without_sw \u001b[39m=\u001b[39m [word \u001b[39mfor\u001b[39;00m word \u001b[39min\u001b[39;00m l \u001b[39mif\u001b[39;00m \u001b[39mnot\u001b[39;00m word \u001b[39min\u001b[39;00m stopwords\u001b[39m.\u001b[39;49mwords()]\n\u001b[0;32m     <a href='vscode-notebook-cell:/c%3A/Users/amara/OneDrive/Ironhack/Week-21/lab-nlp/your-code/challenge-2.ipynb#X32sZmlsZQ%3D%3D?line=22'>23</a>\u001b[0m     \u001b[39mreturn\u001b[39;00m without_sw\n",
      "File \u001b[1;32mc:\\Users\\amara\\anaconda3\\lib\\site-packages\\nltk\\corpus\\reader\\wordlist.py:19\u001b[0m, in \u001b[0;36mWordListCorpusReader.words\u001b[1;34m(self, fileids, ignore_lines_startswith)\u001b[0m\n\u001b[0;32m     18\u001b[0m \u001b[39mdef\u001b[39;00m \u001b[39mwords\u001b[39m(\u001b[39mself\u001b[39m, fileids\u001b[39m=\u001b[39m\u001b[39mNone\u001b[39;00m, ignore_lines_startswith\u001b[39m=\u001b[39m\u001b[39m\"\u001b[39m\u001b[39m\\n\u001b[39;00m\u001b[39m\"\u001b[39m):\n\u001b[1;32m---> 19\u001b[0m     \u001b[39mreturn\u001b[39;00m [\n\u001b[0;32m     20\u001b[0m         line\n\u001b[0;32m     21\u001b[0m         \u001b[39mfor\u001b[39;00m line \u001b[39min\u001b[39;00m line_tokenize(\u001b[39mself\u001b[39m\u001b[39m.\u001b[39mraw(fileids))\n\u001b[0;32m     22\u001b[0m         \u001b[39mif\u001b[39;00m \u001b[39mnot\u001b[39;00m line\u001b[39m.\u001b[39mstartswith(ignore_lines_startswith)\n\u001b[0;32m     23\u001b[0m     ]\n",
      "File \u001b[1;32mc:\\Users\\amara\\anaconda3\\lib\\site-packages\\nltk\\corpus\\reader\\wordlist.py:22\u001b[0m, in \u001b[0;36m<listcomp>\u001b[1;34m(.0)\u001b[0m\n\u001b[0;32m     18\u001b[0m \u001b[39mdef\u001b[39;00m \u001b[39mwords\u001b[39m(\u001b[39mself\u001b[39m, fileids\u001b[39m=\u001b[39m\u001b[39mNone\u001b[39;00m, ignore_lines_startswith\u001b[39m=\u001b[39m\u001b[39m\"\u001b[39m\u001b[39m\\n\u001b[39;00m\u001b[39m\"\u001b[39m):\n\u001b[0;32m     19\u001b[0m     \u001b[39mreturn\u001b[39;00m [\n\u001b[0;32m     20\u001b[0m         line\n\u001b[0;32m     21\u001b[0m         \u001b[39mfor\u001b[39;00m line \u001b[39min\u001b[39;00m line_tokenize(\u001b[39mself\u001b[39m\u001b[39m.\u001b[39mraw(fileids))\n\u001b[1;32m---> 22\u001b[0m         \u001b[39mif\u001b[39;00m \u001b[39mnot\u001b[39;00m line\u001b[39m.\u001b[39mstartswith(ignore_lines_startswith)\n\u001b[0;32m     23\u001b[0m     ]\n",
      "\u001b[1;31mKeyboardInterrupt\u001b[0m: "
     ]
    }
   ],
   "source": [
    "tweets['text_proccesed']=tweets['text'].apply(text_proccesed)\n",
    "tweets.head()"
   ]
  },
  {
   "cell_type": "markdown",
   "metadata": {},
   "source": [
    "### Creating Bag of Words\n",
    "\n",
    "The purpose of this step is to create a [bag of words](https://en.wikipedia.org/wiki/Bag-of-words_model) from the processed data. The bag of words contains all the unique words in your whole text body (a.k.a. *corpus*) with the number of occurrence of each word. It will allow you to understand which words are the most important features across the whole corpus.\n",
    "\n",
    "Also, you can imagine you will have a massive set of words. The less important words (i.e. those of very low number of occurrence) do not contribute much to the sentiment. Therefore, you only need to use the most important words to build your feature set in the next step. In our case, we will use the top 5,000 words with the highest frequency to build the features.\n",
    "\n",
    "In the cell below, combine all the words in `text_processed` and calculate the frequency distribution of all words. A convenient library to calculate the term frequency distribution is NLTK's `FreqDist` class ([documentation](https://www.nltk.org/api/nltk.html#module-nltk.probability)). Then select the top 5,000 words from the frequency distribution."
   ]
  },
  {
   "cell_type": "code",
   "execution_count": 24,
   "metadata": {},
   "outputs": [],
   "source": [
    "# your code here\n",
    "cfdist = nltk.FreqDist()\n",
    "\n",
    "for tweet in tweets['text_processed']:\n",
    "    for word in tweet:\n",
    "        cfdist[word] += 1\n",
    "\n",
    "top_words = list(cfdist.keys())[:5000]"
   ]
  },
  {
   "cell_type": "markdown",
   "metadata": {},
   "source": [
    "### Building Features\n",
    "\n",
    "Now let's build the features. Using the top 5,000 words, create a 2-dimensional matrix to record whether each of those words is contained in each document (tweet). Then you also have an output column to indicate whether the sentiment in each tweet is positive. For example, assuming your bag of words has 5 items (`['one', 'two', 'three', 'four', 'five']`) out of 4 documents (`['A', 'B', 'C', 'D']`), your feature set is essentially:\n",
    "\n",
    "| Doc | one | two | three | four | five | is_positive |\n",
    "|---|---|---|---|---|---|---|\n",
    "| A | True | False | False | True | False | True |\n",
    "| B | False | False | False | True | True | False |\n",
    "| C | False | True | False | False | False | True |\n",
    "| D | True | False | False | False | True | False|\n",
    "\n",
    "However, because the `nltk.NaiveBayesClassifier.train` class we will use in the next step does not work with Pandas dataframe, the structure of your feature set should be converted to the Python list looking like below:\n",
    "\n",
    "```python\n",
    "[\n",
    "\t({\n",
    "\t\t'one': True,\n",
    "\t\t'two': False,\n",
    "\t\t'three': False,\n",
    "\t\t'four': True,\n",
    "\t\t'five': False\n",
    "\t}, True),\n",
    "\t({\n",
    "\t\t'one': False,\n",
    "\t\t'two': False,\n",
    "\t\t'three': False,\n",
    "\t\t'four': True,\n",
    "\t\t'five': True\n",
    "\t}, False),\n",
    "\t({\n",
    "\t\t'one': False,\n",
    "\t\t'two': True,\n",
    "\t\t'three': False,\n",
    "\t\t'four': False,\n",
    "\t\t'five': False\n",
    "\t}, True),\n",
    "\t({\n",
    "\t\t'one': True,\n",
    "\t\t'two': False,\n",
    "\t\t'three': False,\n",
    "\t\t'four': False,\n",
    "\t\t'five': True\n",
    "\t}, False)\n",
    "]\n",
    "```\n",
    "\n",
    "To help you in this step, watch the [following video](https://www.youtube.com/watch?v=-vVskDsHcVc) to learn how to build the feature set with Python and NLTK. The source code in this video can be found [here](https://pythonprogramming.net/words-as-features-nltk-tutorial/)."
   ]
  },
  {
   "cell_type": "markdown",
   "metadata": {},
   "source": [
    "[![Building Features](building-features.jpg)](https://www.youtube.com/watch?v=-vVskDsHcVc)"
   ]
  },
  {
   "cell_type": "code",
   "execution_count": 25,
   "metadata": {},
   "outputs": [],
   "source": [
    "# your code here\n",
    "def find_features(document):\n",
    "    words=set(document)\n",
    "    features={}\n",
    "    for w in top_words:\n",
    "        features[w]=(w in words)\n",
    "    return features"
   ]
  },
  {
   "cell_type": "markdown",
   "metadata": {},
   "source": [
    "### Building and Traininng Naive Bayes Model\n",
    "\n",
    "In this step you will split your feature set into a training and a test set. Then you will create a Bayes classifier instance using `nltk.NaiveBayesClassifier.train` ([example](https://www.nltk.org/book/ch06.html)) to train with the training dataset.\n",
    "\n",
    "After training the model, call `classifier.show_most_informative_features()` to inspect the most important features. The output will look like:\n",
    "\n",
    "```\n",
    "Most Informative Features\n",
    "\t    snow = True            False : True   =     34.3 : 1.0\n",
    "\t  easter = True            False : True   =     26.2 : 1.0\n",
    "\t headach = True            False : True   =     20.9 : 1.0\n",
    "\t    argh = True            False : True   =     17.6 : 1.0\n",
    "\tunfortun = True            False : True   =     16.9 : 1.0\n",
    "\t    jona = True             True : False  =     16.2 : 1.0\n",
    "\t     ach = True            False : True   =     14.9 : 1.0\n",
    "\t     sad = True            False : True   =     13.0 : 1.0\n",
    "\t  parent = True            False : True   =     12.9 : 1.0\n",
    "\t  spring = True            False : True   =     12.7 : 1.0\n",
    "```\n",
    "\n",
    "The [following video](https://www.youtube.com/watch?v=rISOsUaTrO4) will help you complete this step. The source code in this video can be found [here](https://pythonprogramming.net/naive-bayes-classifier-nltk-tutorial/)."
   ]
  },
  {
   "cell_type": "markdown",
   "metadata": {},
   "source": [
    "[![Building and Training NB](nb-model-building.jpg)](https://www.youtube.com/watch?v=rISOsUaTrO4)"
   ]
  },
  {
   "cell_type": "code",
   "execution_count": 26,
   "metadata": {},
   "outputs": [
    {
     "name": "stdout",
     "output_type": "stream",
     "text": [
      "10000\n"
     ]
    }
   ],
   "source": [
    "# your code here\n",
    "def find_features(document):\n",
    "    words = set(document)\n",
    "    features = {}\n",
    "    for w in top_words:\n",
    "        features[w] = (w in words)\n",
    "    \n",
    "    return features\n",
    "\n",
    "feature_sets = [(find_features(tweet), target) for (tweet, target) in list(zip(tweets['text_processed'], tweets['target']))]\n",
    "print(len(feature_sets))"
   ]
  },
  {
   "cell_type": "markdown",
   "metadata": {},
   "source": [
    "### Testing Naive Bayes Model\n",
    "\n",
    "Now we'll test our classifier with the test dataset. This is done by calling `nltk.classify.accuracy(classifier, test)`.\n",
    "\n",
    "As mentioned in one of the tutorial videos, a Naive Bayes model is considered OK if your accuracy score is over 0.6. If your accuracy score is over 0.7, you've done a great job!"
   ]
  },
  {
   "cell_type": "code",
   "execution_count": 27,
   "metadata": {},
   "outputs": [
    {
     "ename": "KeyboardInterrupt",
     "evalue": "",
     "output_type": "error",
     "traceback": [
      "\u001b[1;31m---------------------------------------------------------------------------\u001b[0m",
      "\u001b[1;31mKeyboardInterrupt\u001b[0m                         Traceback (most recent call last)",
      "\u001b[1;32mc:\\Users\\amara\\OneDrive\\Ironhack\\Week-21\\lab-nlp\\your-code\\challenge-2.ipynb Celda 20\u001b[0m in \u001b[0;36m<module>\u001b[1;34m\u001b[0m\n\u001b[0;32m      <a href='vscode-notebook-cell:/c%3A/Users/amara/OneDrive/Ironhack/Week-21/lab-nlp/your-code/challenge-2.ipynb#X20sZmlsZQ%3D%3D?line=2'>3</a>\u001b[0m test \u001b[39m=\u001b[39m feature_sets[\u001b[39m2500\u001b[39m:]\n\u001b[0;32m      <a href='vscode-notebook-cell:/c%3A/Users/amara/OneDrive/Ironhack/Week-21/lab-nlp/your-code/challenge-2.ipynb#X20sZmlsZQ%3D%3D?line=3'>4</a>\u001b[0m classifier \u001b[39m=\u001b[39m nltk\u001b[39m.\u001b[39mNaiveBayesClassifier\u001b[39m.\u001b[39mtrain(train)\n\u001b[1;32m----> <a href='vscode-notebook-cell:/c%3A/Users/amara/OneDrive/Ironhack/Week-21/lab-nlp/your-code/challenge-2.ipynb#X20sZmlsZQ%3D%3D?line=4'>5</a>\u001b[0m \u001b[39mprint\u001b[39m(nltk\u001b[39m.\u001b[39;49mclassify\u001b[39m.\u001b[39;49maccuracy(classifier, test))\n",
      "File \u001b[1;32mc:\\Users\\amara\\anaconda3\\lib\\site-packages\\nltk\\classify\\util.py:91\u001b[0m, in \u001b[0;36maccuracy\u001b[1;34m(classifier, gold)\u001b[0m\n\u001b[0;32m     90\u001b[0m \u001b[39mdef\u001b[39;00m \u001b[39maccuracy\u001b[39m(classifier, gold):\n\u001b[1;32m---> 91\u001b[0m     results \u001b[39m=\u001b[39m classifier\u001b[39m.\u001b[39;49mclassify_many([fs \u001b[39mfor\u001b[39;49;00m (fs, l) \u001b[39min\u001b[39;49;00m gold])\n\u001b[0;32m     92\u001b[0m     correct \u001b[39m=\u001b[39m [l \u001b[39m==\u001b[39m r \u001b[39mfor\u001b[39;00m ((fs, l), r) \u001b[39min\u001b[39;00m \u001b[39mzip\u001b[39m(gold, results)]\n\u001b[0;32m     93\u001b[0m     \u001b[39mif\u001b[39;00m correct:\n",
      "File \u001b[1;32mc:\\Users\\amara\\anaconda3\\lib\\site-packages\\nltk\\classify\\api.py:79\u001b[0m, in \u001b[0;36mClassifierI.classify_many\u001b[1;34m(self, featuresets)\u001b[0m\n\u001b[0;32m     71\u001b[0m \u001b[39mdef\u001b[39;00m \u001b[39mclassify_many\u001b[39m(\u001b[39mself\u001b[39m, featuresets):\n\u001b[0;32m     72\u001b[0m     \u001b[39m\"\"\"\u001b[39;00m\n\u001b[0;32m     73\u001b[0m \u001b[39m    Apply ``self.classify()`` to each element of ``featuresets``.  I.e.:\u001b[39;00m\n\u001b[0;32m     74\u001b[0m \n\u001b[1;32m   (...)\u001b[0m\n\u001b[0;32m     77\u001b[0m \u001b[39m    :rtype: list(label)\u001b[39;00m\n\u001b[0;32m     78\u001b[0m \u001b[39m    \"\"\"\u001b[39;00m\n\u001b[1;32m---> 79\u001b[0m     \u001b[39mreturn\u001b[39;00m [\u001b[39mself\u001b[39m\u001b[39m.\u001b[39mclassify(fs) \u001b[39mfor\u001b[39;00m fs \u001b[39min\u001b[39;00m featuresets]\n",
      "File \u001b[1;32mc:\\Users\\amara\\anaconda3\\lib\\site-packages\\nltk\\classify\\api.py:79\u001b[0m, in \u001b[0;36m<listcomp>\u001b[1;34m(.0)\u001b[0m\n\u001b[0;32m     71\u001b[0m \u001b[39mdef\u001b[39;00m \u001b[39mclassify_many\u001b[39m(\u001b[39mself\u001b[39m, featuresets):\n\u001b[0;32m     72\u001b[0m     \u001b[39m\"\"\"\u001b[39;00m\n\u001b[0;32m     73\u001b[0m \u001b[39m    Apply ``self.classify()`` to each element of ``featuresets``.  I.e.:\u001b[39;00m\n\u001b[0;32m     74\u001b[0m \n\u001b[1;32m   (...)\u001b[0m\n\u001b[0;32m     77\u001b[0m \u001b[39m    :rtype: list(label)\u001b[39;00m\n\u001b[0;32m     78\u001b[0m \u001b[39m    \"\"\"\u001b[39;00m\n\u001b[1;32m---> 79\u001b[0m     \u001b[39mreturn\u001b[39;00m [\u001b[39mself\u001b[39;49m\u001b[39m.\u001b[39;49mclassify(fs) \u001b[39mfor\u001b[39;00m fs \u001b[39min\u001b[39;00m featuresets]\n",
      "File \u001b[1;32mc:\\Users\\amara\\anaconda3\\lib\\site-packages\\nltk\\classify\\naivebayes.py:89\u001b[0m, in \u001b[0;36mNaiveBayesClassifier.classify\u001b[1;34m(self, featureset)\u001b[0m\n\u001b[0;32m     88\u001b[0m \u001b[39mdef\u001b[39;00m \u001b[39mclassify\u001b[39m(\u001b[39mself\u001b[39m, featureset):\n\u001b[1;32m---> 89\u001b[0m     \u001b[39mreturn\u001b[39;00m \u001b[39mself\u001b[39;49m\u001b[39m.\u001b[39;49mprob_classify(featureset)\u001b[39m.\u001b[39mmax()\n",
      "File \u001b[1;32mc:\\Users\\amara\\anaconda3\\lib\\site-packages\\nltk\\classify\\naivebayes.py:115\u001b[0m, in \u001b[0;36mNaiveBayesClassifier.prob_classify\u001b[1;34m(self, featureset)\u001b[0m\n\u001b[0;32m    113\u001b[0m \u001b[39mif\u001b[39;00m (label, fname) \u001b[39min\u001b[39;00m \u001b[39mself\u001b[39m\u001b[39m.\u001b[39m_feature_probdist:\n\u001b[0;32m    114\u001b[0m     feature_probs \u001b[39m=\u001b[39m \u001b[39mself\u001b[39m\u001b[39m.\u001b[39m_feature_probdist[label, fname]\n\u001b[1;32m--> 115\u001b[0m     logprob[label] \u001b[39m+\u001b[39m\u001b[39m=\u001b[39m feature_probs\u001b[39m.\u001b[39;49mlogprob(fval)\n\u001b[0;32m    116\u001b[0m \u001b[39melse\u001b[39;00m:\n\u001b[0;32m    117\u001b[0m     \u001b[39m# nb: This case will never come up if the\u001b[39;00m\n\u001b[0;32m    118\u001b[0m     \u001b[39m# classifier was created by\u001b[39;00m\n\u001b[0;32m    119\u001b[0m     \u001b[39m# NaiveBayesClassifier.train().\u001b[39;00m\n\u001b[0;32m    120\u001b[0m     logprob[label] \u001b[39m+\u001b[39m\u001b[39m=\u001b[39m sum_logs([])  \u001b[39m# = -INF.\u001b[39;00m\n",
      "File \u001b[1;32mc:\\Users\\amara\\anaconda3\\lib\\site-packages\\nltk\\probability.py:539\u001b[0m, in \u001b[0;36mProbDistI.logprob\u001b[1;34m(self, sample)\u001b[0m\n\u001b[0;32m    530\u001b[0m \u001b[39m\"\"\"\u001b[39;00m\n\u001b[0;32m    531\u001b[0m \u001b[39mReturn the base 2 logarithm of the probability for a given sample.\u001b[39;00m\n\u001b[0;32m    532\u001b[0m \n\u001b[1;32m   (...)\u001b[0m\n\u001b[0;32m    536\u001b[0m \u001b[39m:rtype: float\u001b[39;00m\n\u001b[0;32m    537\u001b[0m \u001b[39m\"\"\"\u001b[39;00m\n\u001b[0;32m    538\u001b[0m \u001b[39m# Default definition, in terms of prob()\u001b[39;00m\n\u001b[1;32m--> 539\u001b[0m p \u001b[39m=\u001b[39m \u001b[39mself\u001b[39;49m\u001b[39m.\u001b[39;49mprob(sample)\n\u001b[0;32m    540\u001b[0m \u001b[39mreturn\u001b[39;00m math\u001b[39m.\u001b[39mlog(p, \u001b[39m2\u001b[39m) \u001b[39mif\u001b[39;00m p \u001b[39m!=\u001b[39m \u001b[39m0\u001b[39m \u001b[39melse\u001b[39;00m _NINF\n",
      "File \u001b[1;32mc:\\Users\\amara\\anaconda3\\lib\\site-packages\\nltk\\probability.py:886\u001b[0m, in \u001b[0;36mLidstoneProbDist.prob\u001b[1;34m(self, sample)\u001b[0m\n\u001b[0;32m    884\u001b[0m \u001b[39mdef\u001b[39;00m \u001b[39mprob\u001b[39m(\u001b[39mself\u001b[39m, sample):\n\u001b[0;32m    885\u001b[0m     c \u001b[39m=\u001b[39m \u001b[39mself\u001b[39m\u001b[39m.\u001b[39m_freqdist[sample]\n\u001b[1;32m--> 886\u001b[0m     \u001b[39mreturn\u001b[39;00m (c \u001b[39m+\u001b[39;49m \u001b[39mself\u001b[39;49m\u001b[39m.\u001b[39;49m_gamma) \u001b[39m/\u001b[39;49m \u001b[39mself\u001b[39;49m\u001b[39m.\u001b[39;49m_divisor\n",
      "\u001b[1;31mKeyboardInterrupt\u001b[0m: "
     ]
    }
   ],
   "source": [
    "# your code here\n",
    "train = feature_sets[:2500]\n",
    "test = feature_sets[2500:]\n",
    "classifier = nltk.NaiveBayesClassifier.train(train)\n",
    "print(nltk.classify.accuracy(classifier, test))"
   ]
  },
  {
   "cell_type": "markdown",
   "metadata": {},
   "source": [
    "## Bonus Question 1: Improve Model Performance\n",
    "\n",
    "If you are still not exhausted so far and want to dig deeper, try to improve your classifier performance. There are many aspects you can dig into, for example:\n",
    "\n",
    "* Improve stemming and lemmatization. Inspect your bag of words and the most important features. Are there any words you should furuther remove from analysis? You can append these words to further remove to the stop words list.\n",
    "\n",
    "* Remember we only used the top 5,000 features to build model? Try using different numbers of top features. The bottom line is to use as few features as you can without compromising your model performance. The fewer features you select into your model, the faster your model is trained. Then you can use a larger sample size to improve your model accuracy score."
   ]
  },
  {
   "cell_type": "code",
   "execution_count": null,
   "metadata": {},
   "outputs": [],
   "source": [
    "# your code here"
   ]
  },
  {
   "cell_type": "markdown",
   "metadata": {},
   "source": [
    "## Bonus Question 2: Machine Learning Pipeline\n",
    "\n",
    "In a new Jupyter Notebook, combine all your codes into a function (or a class). Your new function will execute the complete machine learning pipeline job by receiving the dataset location and output the classifier. This will allow you to use your function to predict the sentiment of any tweet in real time. "
   ]
  },
  {
   "cell_type": "code",
   "execution_count": null,
   "metadata": {},
   "outputs": [],
   "source": [
    "# your code here"
   ]
  },
  {
   "cell_type": "markdown",
   "metadata": {},
   "source": [
    "## Bonus Question 3: Apache Spark\n",
    "\n",
    "If you have completed the Apache Spark advanced topic lab, what you can do is to migrate your pipeline from local to a Databricks Notebook. Share your notebook with your instructor and classmates to show off your achievements!"
   ]
  },
  {
   "cell_type": "code",
   "execution_count": null,
   "metadata": {},
   "outputs": [],
   "source": [
    "# your code here"
   ]
  }
 ],
 "metadata": {
  "kernelspec": {
   "display_name": "Python 3.9.7",
   "language": "python",
   "name": "python3"
  },
  "language_info": {
   "codemirror_mode": {
    "name": "ipython",
    "version": 3
   },
   "file_extension": ".py",
   "mimetype": "text/x-python",
   "name": "python",
   "nbconvert_exporter": "python",
   "pygments_lexer": "ipython3",
   "version": "3.9.7"
  },
  "vscode": {
   "interpreter": {
    "hash": "17c695474dc7255d001f177524443d02756d3925741c791a24ccef519630cd63"
   }
  }
 },
 "nbformat": 4,
 "nbformat_minor": 2
}
